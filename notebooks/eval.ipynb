{
 "cells": [
  {
   "cell_type": "markdown",
   "metadata": {},
   "source": [
    "### Evaluation\n",
    "- Response Evaluation\n",
    "- Retriever Evaluation"
   ]
  },
  {
   "cell_type": "code",
   "execution_count": 1,
   "metadata": {},
   "outputs": [],
   "source": [
    "import os\n",
    "from dotenv import load_dotenv\n",
    "\n",
    "env_loaded = load_dotenv('../.envrc')\n",
    "assert env_loaded, 'Failed to load .envrc'\n",
    "\n",
    "DB_HOST = os.getenv('DB_HOST')\n",
    "assert DB_HOST is not None\n",
    "DB_PORT = os.getenv('DB_PORT')\n",
    "assert DB_PORT is not None\n",
    "DB_USER = os.getenv('DB_USER')\n",
    "assert DB_USER is not None\n",
    "DB_PASSWORD = os.getenv('DB_PASSWORD')\n",
    "assert DB_PASSWORD is not None\n",
    "DB_NAME = os.getenv('DB_NAME')\n",
    "assert DB_NAME is not None\n",
    "\n",
    "DB_URL = f'postgresql+asyncpg://{DB_USER}:{DB_PASSWORD}@{DB_HOST}:{DB_PORT}/{DB_NAME}'\n",
    "\n"
   ]
  },
  {
   "cell_type": "code",
   "execution_count": 17,
   "metadata": {},
   "outputs": [
    {
     "name": "stdout",
     "output_type": "stream",
     "text": [
      "OLLAMA_API_BASE: http://localhost:11434\n",
      "LITELLM_LLM_RERANKER_MODEL_NAME: ollama_chat/llama3.2:3b\n",
      "LLM_RERANKER_TOP_N: 4\n",
      "LLM_RERANKER_CHOICE_BATCH_SIZE: 5\n",
      "LITELLM_RESPONSE_SYNTHESIZER_MODEL: ollama_chat/llama3.2:3b\n",
      "SIMILARITY_TOP_K: 12\n",
      "SIMILARITY_CUTOFF: 0.7\n",
      "LITELLM_CHAT_ENGINE_LLM_MODEL_NAME: ollama_chat/llama3.2:3b\n",
      "SENTENCE_TRANSFORMER_RERANKER_MODEL: cross-encoder/stsb-distilroberta-base\n",
      "SENTENCE_TRANSFORMER_RERANKER_TOP_N: 4\n"
     ]
    }
   ],
   "source": [
    "import os\n",
    "\n",
    "OLLAMA_API_BASE = os.getenv(\n",
    "    'OLLAMA_API_BASE',\n",
    ")\n",
    "print(f'OLLAMA_API_BASE: {OLLAMA_API_BASE}')\n",
    "\n",
    "LITELLM_LLM_RERANKER_MODEL_NAME = os.getenv(\n",
    "    'LITELLM_LLM_RERANKER_MODEL'\n",
    ")\n",
    "print(f'LITELLM_LLM_RERANKER_MODEL_NAME: {LITELLM_LLM_RERANKER_MODEL_NAME}')\n",
    "\n",
    "LLM_RERANKER_TOP_N = os.getenv(\n",
    "    'LLM_RERANKER_TOP_N',\n",
    ")\n",
    "print(f'LLM_RERANKER_TOP_N: {LLM_RERANKER_TOP_N}')\n",
    "\n",
    "LLM_RERANKER_CHOICE_BATCH_SIZE = os.getenv(\n",
    "    'LLM_RERANKER_CHOICE_BATCH_SIZE',\n",
    ")\n",
    "print(f'LLM_RERANKER_CHOICE_BATCH_SIZE: {LLM_RERANKER_CHOICE_BATCH_SIZE}')\n",
    "\n",
    "LITELLM_RESPONSE_SYNTHESIZER_MODEL = os.getenv(\n",
    "    'LITELLM_RESPONSE_SYNTHESIZER_MODEL',\n",
    ")\n",
    "print(f'LITELLM_RESPONSE_SYNTHESIZER_MODEL: {LITELLM_RESPONSE_SYNTHESIZER_MODEL}')\n",
    "\n",
    "SIMILARITY_TOP_K = os.getenv(\n",
    "    'SIMILARITY_TOP_K',\n",
    ")\n",
    "print(f'SIMILARITY_TOP_K: {SIMILARITY_TOP_K}')\n",
    "\n",
    "SIMILARITY_CUTOFF = os.getenv(\n",
    "    'SIMILARITY_CUTOFF',\n",
    ")\n",
    "print(f'SIMILARITY_CUTOFF: {SIMILARITY_CUTOFF}')\n",
    "\n",
    "LITELLM_CHAT_ENGINE_LLM_MODEL_NAME = os.getenv(\n",
    "    'LITELLM_CHAT_ENGINE_LLM_MODEL_NAME',\n",
    ")\n",
    "print(f'LITELLM_CHAT_ENGINE_LLM_MODEL_NAME: {LITELLM_CHAT_ENGINE_LLM_MODEL_NAME}')\n",
    "\n",
    "SENTENCE_TRANSFORMER_RERANKER_MODEL = os.getenv(\n",
    "    'SENTENCE_TRANSFORMER_RERANKER_MODEL',\n",
    ")\n",
    "print(f'SENTENCE_TRANSFORMER_RERANKER_MODEL: {SENTENCE_TRANSFORMER_RERANKER_MODEL}')\n",
    "\n",
    "SENTENCE_TRANSFORMER_RERANKER_TOP_N = os.getenv(\n",
    "    'SENTENCE_TRANSFORMER_RERANKER_TOP_N',\n",
    ")\n",
    "print(f'SENTENCE_TRANSFORMER_RERANKER_TOP_N: {SENTENCE_TRANSFORMER_RERANKER_TOP_N}')"
   ]
  },
  {
   "cell_type": "code",
   "execution_count": 2,
   "metadata": {},
   "outputs": [],
   "source": [
    "import phoenix as px\n",
    "import llama_index.core\n",
    "\n",
    "def launch_phoenix():\n",
    "    px.launch_app()\n",
    "    llama_index.core.set_global_handler(\"arize_phoenix\")\n",
    "\n",
    "def close_phoenix():\n",
    "    px.close_app()\n"
   ]
  },
  {
   "cell_type": "markdown",
   "metadata": {},
   "source": [
    "#### Load Chat Engine"
   ]
  },
  {
   "cell_type": "code",
   "execution_count": 3,
   "metadata": {},
   "outputs": [],
   "source": [
    "from llama_index.embeddings.huggingface import HuggingFaceEmbedding\n",
    "\n",
    "embed_model_name = \"intfloat/multilingual-e5-large\"\n",
    "embed_model = HuggingFaceEmbedding(model_name=embed_model_name)\n",
    "embedding_model_dimensions = 1024"
   ]
  },
  {
   "cell_type": "code",
   "execution_count": 4,
   "metadata": {},
   "outputs": [
    {
     "name": "stdout",
     "output_type": "stream",
     "text": [
      "table_name: budget_2025-intfloat-multilingual-e5-large\n"
     ]
    }
   ],
   "source": [
    "from llama_index.vector_stores.postgres import PGVectorStore\n",
    "from llama_index.core import VectorStoreIndex\n",
    "import re\n",
    "\n",
    "table_prefix = 'budget_2025-'\n",
    "model_name_clean = re.sub(r'[^a-zA-Z0-9\\-]', '-', embed_model_name)\n",
    "table_name = f'{table_prefix}{model_name_clean}'\n",
    "print(f'table_name: {table_name}')\n",
    "\n",
    "vector_store = PGVectorStore.from_params(\n",
    "            host=DB_HOST,\n",
    "            port=DB_PORT,\n",
    "            database=DB_NAME,\n",
    "            user=DB_USER,\n",
    "            password=DB_PASSWORD,\n",
    "            table_name=table_name,\n",
    "            perform_setup=False,\n",
    "            embed_dim=embedding_model_dimensions,\n",
    "        )\n",
    "\n",
    "vsi = VectorStoreIndex.from_vector_store(\n",
    "    vector_store=vector_store,\n",
    "    embed_model=embed_model\n",
    ")"
   ]
  },
  {
   "cell_type": "code",
   "execution_count": 18,
   "metadata": {},
   "outputs": [],
   "source": [
    "# similarity postprocessor\n",
    "from llama_index.core.postprocessor import SimilarityPostprocessor\n",
    "similarity_postprocessor = SimilarityPostprocessor(similarity_cutoff=SIMILARITY_CUTOFF)\n"
   ]
  },
  {
   "cell_type": "code",
   "execution_count": 19,
   "metadata": {},
   "outputs": [],
   "source": [
    "# sentence transformer reranker postprocessor\n",
    "from llama_index.core.postprocessor import SentenceTransformerRerank\n",
    "sentence_transformer_reranker_model = 'cross-encoder/mmarco-mMiniLMv2-L12-H384-v1'\n",
    "\n",
    "sentence_transformer_reranker = SentenceTransformerRerank(\n",
    "    model=sentence_transformer_reranker_model, top_n=SENTENCE_TRANSFORMER_RERANKER_TOP_N\n",
    ")\n",
    "\n"
   ]
  },
  {
   "cell_type": "code",
   "execution_count": 20,
   "metadata": {},
   "outputs": [],
   "source": [
    "from llama_index.core.response_synthesizers import get_response_synthesizer\n",
    "from llama_index.core.response_synthesizers.type import ResponseMode\n",
    "from llama_index.llms.litellm import LiteLLM\n",
    "\n",
    "response_synthesizer_llm_model = \"ollama_chat/llama3.2:3b\"\n",
    "response_synthesizer_llm = LiteLLM(response_synthesizer_llm_model)\n",
    "\n",
    "response_synthesizer = get_response_synthesizer(llm=response_synthesizer_llm, response_mode=ResponseMode.COMPACT)"
   ]
  },
  {
   "cell_type": "code",
   "execution_count": 21,
   "metadata": {},
   "outputs": [
    {
     "name": "stdout",
     "output_type": "stream",
     "text": [
      "ollama_chat/llama3.2:3b context window: 2048\n"
     ]
    }
   ],
   "source": [
    "from llama_index.llms.litellm import LiteLLM\n",
    "\n",
    "llm_model_name = \"ollama_chat/llama3.2:3b\"\n",
    "llm = LiteLLM(llm_model_name)\n",
    "print(f'{llm_model_name} context window: {llm.metadata.context_window}')"
   ]
  },
  {
   "cell_type": "code",
   "execution_count": 22,
   "metadata": {},
   "outputs": [],
   "source": [
    "from llama_index.core.chat_engine.types import ChatMode\n",
    "\n",
    "# chat engine settings\n",
    "similarity_top_k = 12 # no. of nodes to retrieve\n",
    "# llm_reranker_top_n = 4\n",
    "\n",
    "chat_engine_llm_model = \"ollama_chat/llama3.2:3b\"\n",
    "chat_engine_llm = LiteLLM(chat_engine_llm_model)\n",
    "\n",
    "chat_engine = vsi.as_chat_engine(\n",
    "    chat_mode=ChatMode.BEST, \n",
    "    llm=chat_engine_llm,\n",
    "    similarity_top_k=SIMILARITY_TOP_K,\n",
    "    # node_postprocessors=[similarity_postprocessor, llm_reranker],\n",
    "    node_postprocessors=[similarity_postprocessor, sentence_transformer_reranker],\n",
    "    response_synthesizer=response_synthesizer,\n",
    "    streaming=True\n",
    ")"
   ]
  },
  {
   "cell_type": "code",
   "execution_count": 24,
   "metadata": {},
   "outputs": [
    {
     "name": "stdout",
     "output_type": "stream",
     "text": [
      " The benefits of having babies in Singapore under the SG60 package include a one-off $500 in LifeSG credits for each child, as well as additional grants and credits for families with three or more children. Specifically, these include:\n",
      "- A $5,000 increase in the Child Development Account First Step Grant for each third and subsequent child born from today onwards\n",
      "- A new $5,000 Large Family MediSave Grant disbursed into the mother's MediSave account for each third and subsequent child born from today onwards\n",
      "- $1,000 in LifeSG credits disbursed annually to families for each of their third and subsequent children during the years that the child turns one to six."
     ]
    }
   ],
   "source": [
    "from llama_index.core.chat_engine.types import StreamingAgentChatResponse\n",
    "\n",
    "question = \"Are there benefits for having babies in SG60?\"\n",
    "\n",
    "response: StreamingAgentChatResponse = chat_engine.stream_chat(question)\n",
    "for token in response.response_gen:\n",
    "    print(token, end=\"\")"
   ]
  },
  {
   "cell_type": "code",
   "execution_count": null,
   "metadata": {},
   "outputs": [
    {
     "name": "stdout",
     "output_type": "stream",
     "text": [
      "ollama_chat/llama3.2:3b context window: 2048\n"
     ]
    }
   ],
   "source": [
    "llm_model_name = \"ollama_chat/llama3.2:3b\"\n",
    "llm = LiteLLM(llm_model_name)\n",
    "# llm = LiteLLM(llm_model_name)\n",
    "print(f'{llm_model_name} context window: {llm.metadata.context_window}')"
   ]
  },
  {
   "cell_type": "code",
   "execution_count": 11,
   "metadata": {},
   "outputs": [
    {
     "name": "stdout",
     "output_type": "stream",
     "text": [
      "🌍 To view the Phoenix app in your browser, visit http://localhost:6006/\n",
      "📖 For more information on how to use Phoenix, check out https://docs.arize.com/phoenix\n"
     ]
    }
   ],
   "source": [
    "launch_phoenix()"
   ]
  },
  {
   "cell_type": "markdown",
   "metadata": {},
   "source": [
    "##### Question Generation"
   ]
  },
  {
   "cell_type": "code",
   "execution_count": null,
   "metadata": {},
   "outputs": [],
   "source": [
    "# set your own openai api key for using LLM to evaluate\n",
    "#os.environ['OPENAI_API_KEY'] = ''"
   ]
  },
  {
   "cell_type": "code",
   "execution_count": 36,
   "metadata": {},
   "outputs": [],
   "source": [
    "import nest_asyncio\n",
    "\n",
    "nest_asyncio.apply()"
   ]
  },
  {
   "cell_type": "code",
   "execution_count": 30,
   "metadata": {},
   "outputs": [],
   "source": [
    "from llama_index.llms.openai import OpenAI\n",
    "from llama_index.core.evaluation import FaithfulnessEvaluator\n",
    "from llama_index.core.chat_engine.types import ChatMessage\n",
    "\n",
    "# create llm\n",
    "llm = OpenAI(model=\"gpt-4o-mini\", temperature=0.0)\n",
    "\n",
    "# define evaluator\n",
    "evaluator = FaithfulnessEvaluator(llm=llm)"
   ]
  },
  {
   "cell_type": "code",
   "execution_count": 31,
   "metadata": {},
   "outputs": [],
   "source": [
    "from llama_index.core.schema import MetadataMode\n",
    "from typing import Sequence\n",
    "\n",
    "retriever = vsi.as_retriever(similarity_top_k=SIMILARITY_TOP_K)\n",
    "\n",
    "def get_context(question: str) -> Sequence[str]:\n",
    "    nodes = retriever.retrieve(question)\n",
    "    nodes = similarity_postprocessor.postprocess_nodes(nodes)\n",
    "    nodes = sentence_transformer_reranker.postprocess_nodes(nodes, query_str=question)\n",
    "\n",
    "    contexts = [node.get_content(MetadataMode.LLM) for node in nodes]\n",
    "\n",
    "    return contexts\n"
   ]
  },
  {
   "cell_type": "code",
   "execution_count": null,
   "metadata": {},
   "outputs": [],
   "source": [
    "# query index\n",
    "question = 'What are the benefits of having babies in SG60?'\n",
    "\n",
    "response = await chat_engine.achat(question)\n",
    "eval_result = await evaluator.evaluate_response(query=question, response=response)\n"
   ]
  },
  {
   "cell_type": "code",
   "execution_count": 44,
   "metadata": {},
   "outputs": [
    {
     "data": {
      "text/plain": [
       "EvaluationResult(query='What are the benefits of having babies in SG60?', contexts=[], response='The benefits of having babies in SG60 include receiving $500 in LifeSG credits for each child, as well as additional grants and credits for families with three or more children.', passing=False, feedback='Empty Response', score=0.0, pairwise_source=None, invalid_result=False, invalid_reason=None)"
      ]
     },
     "execution_count": 44,
     "metadata": {},
     "output_type": "execute_result"
    }
   ],
   "source": [
    "eval_result"
   ]
  },
  {
   "cell_type": "code",
   "execution_count": 39,
   "metadata": {},
   "outputs": [
    {
     "name": "stderr",
     "output_type": "stream",
     "text": [
      "/home/mightymagnus/projects/budget2025-rag/.venv/lib/python3.12/site-packages/phoenix/trace/dsl/query.py:762: FutureWarning: Series.__getitem__ treating keys as positions is deprecated. In a future version, integer keys will always be treated as labels (consistent with DataFrame behavior). To access a value by position, use `ser.iloc[pos]`\n",
      "  df_attributes = pd.DataFrame.from_records(\n"
     ]
    }
   ],
   "source": [
    "spans_df = px.active_session().get_spans_dataframe()\n"
   ]
  },
  {
   "cell_type": "code",
   "execution_count": 41,
   "metadata": {},
   "outputs": [
    {
     "data": {
      "text/html": [
       "<div>\n",
       "<style scoped>\n",
       "    .dataframe tbody tr th:only-of-type {\n",
       "        vertical-align: middle;\n",
       "    }\n",
       "\n",
       "    .dataframe tbody tr th {\n",
       "        vertical-align: top;\n",
       "    }\n",
       "\n",
       "    .dataframe thead th {\n",
       "        text-align: right;\n",
       "    }\n",
       "</style>\n",
       "<table border=\"1\" class=\"dataframe\">\n",
       "  <thead>\n",
       "    <tr style=\"text-align: right;\">\n",
       "      <th></th>\n",
       "      <th>attributes.input.value</th>\n",
       "      <th>attributes.retrieval.documents</th>\n",
       "    </tr>\n",
       "    <tr>\n",
       "      <th>context.span_id</th>\n",
       "      <th></th>\n",
       "      <th></th>\n",
       "    </tr>\n",
       "  </thead>\n",
       "  <tbody>\n",
       "    <tr>\n",
       "      <th>d2d30fa7521a1bff</th>\n",
       "      <td>SG culture pass</td>\n",
       "      <td>[{'document.score': 0.8397232795, 'document.co...</td>\n",
       "    </tr>\n",
       "    <tr>\n",
       "      <th>8c56dee6160366dc</th>\n",
       "      <td>Benefits of having babies in SG60</td>\n",
       "      <td>[{'document.score': 0.8403207254, 'document.co...</td>\n",
       "    </tr>\n",
       "    <tr>\n",
       "      <th>6eb476bb6db286a6</th>\n",
       "      <td>What are the benefits of having babies in SG60?</td>\n",
       "      <td>[{'document.score': 0.8343092401000001, 'docum...</td>\n",
       "    </tr>\n",
       "    <tr>\n",
       "      <th>a2993a8a330b7fdb</th>\n",
       "      <td>What are the benefits of having babies in SG60?</td>\n",
       "      <td>[{'document.score': 0.8343092401000001, 'docum...</td>\n",
       "    </tr>\n",
       "    <tr>\n",
       "      <th>8c428e7a246907eb</th>\n",
       "      <td>SG60 baby benefits</td>\n",
       "      <td>[{'document.score': 0.8438623827, 'document.co...</td>\n",
       "    </tr>\n",
       "  </tbody>\n",
       "</table>\n",
       "</div>"
      ],
      "text/plain": [
       "                                           attributes.input.value  \\\n",
       "context.span_id                                                     \n",
       "d2d30fa7521a1bff                                  SG culture pass   \n",
       "8c56dee6160366dc                Benefits of having babies in SG60   \n",
       "6eb476bb6db286a6  What are the benefits of having babies in SG60?   \n",
       "a2993a8a330b7fdb  What are the benefits of having babies in SG60?   \n",
       "8c428e7a246907eb                               SG60 baby benefits   \n",
       "\n",
       "                                     attributes.retrieval.documents  \n",
       "context.span_id                                                      \n",
       "d2d30fa7521a1bff  [{'document.score': 0.8397232795, 'document.co...  \n",
       "8c56dee6160366dc  [{'document.score': 0.8403207254, 'document.co...  \n",
       "6eb476bb6db286a6  [{'document.score': 0.8343092401000001, 'docum...  \n",
       "a2993a8a330b7fdb  [{'document.score': 0.8343092401000001, 'docum...  \n",
       "8c428e7a246907eb  [{'document.score': 0.8438623827, 'document.co...  "
      ]
     },
     "execution_count": 41,
     "metadata": {},
     "output_type": "execute_result"
    }
   ],
   "source": [
    "spans_with_docs_df = spans_df[spans_df[\"attributes.retrieval.documents\"].notnull()]\n",
    "spans_with_docs_df[[\"attributes.input.value\", \"attributes.retrieval.documents\"]].head()"
   ]
  },
  {
   "cell_type": "code",
   "execution_count": 46,
   "metadata": {},
   "outputs": [
    {
     "name": "stderr",
     "output_type": "stream",
     "text": [
      "Attempting to instrument while already instrumented\n"
     ]
    },
    {
     "name": "stdout",
     "output_type": "stream",
     "text": [
      "🌍 To view the Phoenix app in your browser, visit http://localhost:6006/\n",
      "📖 For more information on how to use Phoenix, check out https://docs.arize.com/phoenix\n"
     ]
    }
   ],
   "source": [
    "# reset phoenix\n",
    "close_phoenix()\n",
    "launch_phoenix()"
   ]
  },
  {
   "cell_type": "code",
   "execution_count": 47,
   "metadata": {},
   "outputs": [
    {
     "data": {
      "text/plain": [
       "100"
      ]
     },
     "execution_count": 47,
     "metadata": {},
     "output_type": "execute_result"
    }
   ],
   "source": [
    "import json\n",
    "# load json from ../data/questions.json\n",
    "with open('../data/questions.json', 'r') as f:\n",
    "    questions = json.load(f)\n",
    "\n",
    "len(questions)"
   ]
  },
  {
   "cell_type": "code",
   "execution_count": 48,
   "metadata": {},
   "outputs": [
    {
     "data": {
      "text/plain": [
       "AgentChatResponse(response=\"The main theme of the FY2025 Budget is to build on previous budgets while addressing current challenges and planning for a stronger future, with a focus on advancing Singapore's growth, supporting its citizens, and fostering a united society.\", sources=[ToolOutput(content=\"The FY2025 Budget is a Budget for all Singaporeans, tackling immediate challenges while laying the groundwork for a stronger, more resilient tomorrow. It is shaped together with all Singaporeans to advance Forward Singapore efforts and empower each citizen to contribute towards their shared future. The main theme of the budget can be summarized as building a better tomorrow for all Singaporeans by addressing various challenges and planning ahead to secure the nation's future.\", tool_name='query_engine_tool', raw_input={'input': 'FY2025 Budget main theme'}, raw_output=Response(response=\"The FY2025 Budget is a Budget for all Singaporeans, tackling immediate challenges while laying the groundwork for a stronger, more resilient tomorrow. It is shaped together with all Singaporeans to advance Forward Singapore efforts and empower each citizen to contribute towards their shared future. The main theme of the budget can be summarized as building a better tomorrow for all Singaporeans by addressing various challenges and planning ahead to secure the nation's future.\", source_nodes=[NodeWithScore(node=TextNode(id_='98518d83-8e77-4298-8283-fe3551f40768', embedding=None, metadata={'source_document': 'fy2025_budget_statement.pdf', 'header_path': '/BUDGET 2025 SPEECH /'}, excluded_embed_metadata_keys=['source_document'], excluded_llm_metadata_keys=[], relationships={<NodeRelationship.SOURCE: '1'>: RelatedNodeInfo(node_id='d220a083-7765-4b29-9d89-4b82036466dc', node_type='4', metadata={'source_document': 'fy2025_budget_statement.pdf'}, hash='06f433139a43ef0893b7df9f1c18ddbfa6bd566fdd6c38f4656c4e16f7d73d84'), <NodeRelationship.PREVIOUS: '2'>: RelatedNodeInfo(node_id='59816983-d8b9-46b3-8dc1-a252dfbcf8b0', node_type='1', metadata={'source_document': 'fy2025_budget_statement.pdf', 'header_path': '/'}, hash='e02006647997a041ff31a44b5b2bc32e90ba61c34ce3068a44fd6dec096b1993')}, metadata_template='{key}: {value}', metadata_separator='\\n', text=\"## ONWARD TOGETHER FOR A BETTER TOMORROW\\n\\nA. Introduction ..... 3\\nB. Tackling Cost Pressures ..... 9\\nC. Advancing our Growth Frontier ..... 17\\nEnhancing our Technology and Innovation Engines ..... 19\\nStrengthening our Enterprise Ecosystem ..... 24\\nTackling Infrastructure and Resource Constraints ..... 30\\nD. Equipping Workers Throughout Life ..... 38\\nEncouraging Lifelong Learning ..... 39\\nSupporting our Enterprises in Workforce Transformation ..... 43\\nStrengthening Support for Workers ..... 49\\nE. Building a Sustainable City ..... 53\\nGreening and Enhancing our Transport Sector ..... 54\\nSecuring a Climate-Resilient Future ..... 57\\nEmbracing Sustainability as a Lifestyle ..... 60\\nF. Nurturing a Caring and Inclusive Society ..... 62\\nImproving the Resilience of Vulnerable Families ..... 62\\nBuilding a Singapore Made for Families ..... 65\\nEnabling Seniors to Age Well ..... 68\\nEmpowering Persons with Disabilities ..... 73\\n\\nG. Rallying as One United People ..... 78\\nRecognising Singaporeans' Contributions ..... 78\\nStrengthening Our National Identity and Our Community Bonds ..... 80\\nH. Fiscal Position ..... 87\\nBuilding A Fairer and More Resilient Tax System ..... 87\\nFY2024 and FY2025 Fiscal Position ..... 90\\nMedium-Term Fiscal Outlook ..... 92\\nI. Conclusion ..... 95\", mimetype='text/plain', start_char_idx=0, end_char_idx=1274, metadata_seperator='\\n', text_template='{metadata_str}\\n\\n{content}'), score=np.float32(2.1856763)), NodeWithScore(node=TextNode(id_='59816983-d8b9-46b3-8dc1-a252dfbcf8b0', embedding=None, metadata={'source_document': 'fy2025_budget_statement.pdf', 'header_path': '/'}, excluded_embed_metadata_keys=['source_document'], excluded_llm_metadata_keys=[], relationships={<NodeRelationship.SOURCE: '1'>: RelatedNodeInfo(node_id='d220a083-7765-4b29-9d89-4b82036466dc', node_type='4', metadata={'source_document': 'fy2025_budget_statement.pdf'}, hash='06f433139a43ef0893b7df9f1c18ddbfa6bd566fdd6c38f4656c4e16f7d73d84')}, metadata_template='{key}: {value}', metadata_separator='\\n', text='# BUDGET 2025 SPEECH', mimetype='text/plain', start_char_idx=0, end_char_idx=20, metadata_seperator='\\n', text_template='{metadata_str}\\n\\n{content}'), score=np.float32(0.7119027)), NodeWithScore(node=TextNode(id_='71173b19-ac1c-4402-a33a-f861d3f39dbf', embedding=None, metadata={'source_document': 'fy2025_budget_statement.pdf', 'header_path': '/'}, excluded_embed_metadata_keys=['source_document'], excluded_llm_metadata_keys=[], relationships={<NodeRelationship.SOURCE: '1'>: RelatedNodeInfo(node_id='d220a083-7765-4b29-9d89-4b82036466dc', node_type='4', metadata={'source_document': 'fy2025_budget_statement.pdf'}, hash='06f433139a43ef0893b7df9f1c18ddbfa6bd566fdd6c38f4656c4e16f7d73d84'), <NodeRelationship.PREVIOUS: '2'>: RelatedNodeInfo(node_id='0ac6db31-5211-4e56-bc0f-4d1b08fa088c', node_type='1', metadata={'source_document': 'fy2025_budget_statement.pdf', 'header_path': '/'}, hash='8705e148ff03782af0303059b4b4653884def1013c81206badd244f4f7a6384d')}, metadata_template='{key}: {value}', metadata_separator='\\n', text='187. This is what the Singapore spirit is about.\\n188. At every turn, we have chosen determination over despair, innovation over stagnation, and solidarity over division.\\n189. Every generation has carved a path through its challenges, and paved the way for the next generation to go even further.\\n190. Budget 2025 sets out clear plans for us to continue this journey with confidence.\\na. It is a Budget for the future - tackling immediate challenges, while laying the groundwork for a stronger, more resilient tomorrow.\\n\\nb. It is a Budget for all Singaporeans. Because when Singapore thrives, every citizen benefits. Every Singaporean is supported from birth to old age, with more support given to those with less. No one is left behind.\\nc. Importantly, this is a Budget shaped together with all Singaporeans - advancing our Forward Singapore efforts to build the Singapore we want, and empowering each of us to contribute towards our shared future.\\n191. The road ahead will not be without challenges, but I am confident that our best days lie ahead of us. Together, we can keep Singapore an evergreen oasis of stability, hope, and opportunity for all. So let us move onward together for a better tomorrow.\\n192. Mr Speaker, I beg to move.', mimetype='text/plain', start_char_idx=2279, end_char_idx=3515, metadata_seperator='\\n', text_template='{metadata_str}\\n\\n{content}'), score=np.float32(-0.4204945)), NodeWithScore(node=TextNode(id_='179f948c-c7f9-456b-82b0-adc721c5a418', embedding=None, metadata={'source_document': 'fy2025_budget_statement.pdf', 'header_path': '/'}, excluded_embed_metadata_keys=['source_document'], excluded_llm_metadata_keys=[], relationships={<NodeRelationship.SOURCE: '1'>: RelatedNodeInfo(node_id='d220a083-7765-4b29-9d89-4b82036466dc', node_type='4', metadata={'source_document': 'fy2025_budget_statement.pdf'}, hash='06f433139a43ef0893b7df9f1c18ddbfa6bd566fdd6c38f4656c4e16f7d73d84'), <NodeRelationship.PREVIOUS: '2'>: RelatedNodeInfo(node_id='9e5cc617-bf07-4ef8-bbd3-e97f9d2d1952', node_type='1', metadata={'source_document': 'fy2025_budget_statement.pdf', 'header_path': '/'}, hash='d1a7dcfef89231396aa004fae50e8be593c0a2da36b708bd61c4aca9981a4580')}, metadata_template='{key}: {value}', metadata_separator='\\n', text=\"But despite the uncertainties, we can look ahead with a degree of confidence. Singapore today is far stronger than we were 60 years ago.\\na. We have developed a strong and well-diversified economy, supported by a highly skilled workforce.\\nb. We have built up a robust SAF and a strong diplomatic network, to uphold our sovereignty and security.\\nc. We have forged a common Singaporean identity, grounded in our shared values and experiences, and our commitment to one another and our nation.\\n14. This is the legacy of generations of Singaporeans, with each one running a good race. The baton has now been passed, and it is our turn to take Singapore forward. This Budget builds on previous Budgets, not only to address today's challenges, but to plan ahead and secure Singapore's future.\\n15. Budget 2025 is a Budget for all Singaporeans.\\n\\n16. It's also a Budget shaped together with all Singaporeans. It further advances our Forward Singapore agenda, which incorporates your aspirations and views, and seeks to keep our society strong and united.\\n17. In this Budget, we will work with you to:\\na. Tackle cost pressures;\\nb. Advance our growth frontier;\\nc. Equip workers throughout life;\\nd. Build a sustainable city;\\ne. Nurture a caring and inclusive society; and\\nf. Rally as one united people.\\n18. \", mimetype='text/plain', start_char_idx=2979, end_char_idx=4273, metadata_seperator='\\n', text_template='{metadata_str}\\n\\n{content}'), score=np.float32(-1.4277387))], metadata={'98518d83-8e77-4298-8283-fe3551f40768': {'source_document': 'fy2025_budget_statement.pdf', 'header_path': '/BUDGET 2025 SPEECH /'}, '59816983-d8b9-46b3-8dc1-a252dfbcf8b0': {'source_document': 'fy2025_budget_statement.pdf', 'header_path': '/'}, '71173b19-ac1c-4402-a33a-f861d3f39dbf': {'source_document': 'fy2025_budget_statement.pdf', 'header_path': '/'}, '179f948c-c7f9-456b-82b0-adc721c5a418': {'source_document': 'fy2025_budget_statement.pdf', 'header_path': '/'}}), is_error=False), ToolOutput(content='Error: Could not parse output. Please follow the thought-action-input format. Try again.', tool_name='unknown', raw_input={}, raw_output='Error: Could not parse output. Please follow the thought-action-input format. Try again.', is_error=False), ToolOutput(content=\"The FY2025 Budget main theme is to build on previous budgets while addressing current challenges and planning for a stronger future, with a focus on advancing Singapore's growth, supporting its citizens, and fostering a united society.\", tool_name='query_engine_tool', raw_input={'input': 'FY2025 Budget main theme'}, raw_output=Response(response=\"The FY2025 Budget main theme is to build on previous budgets while addressing current challenges and planning for a stronger future, with a focus on advancing Singapore's growth, supporting its citizens, and fostering a united society.\", source_nodes=[NodeWithScore(node=TextNode(id_='98518d83-8e77-4298-8283-fe3551f40768', embedding=None, metadata={'source_document': 'fy2025_budget_statement.pdf', 'header_path': '/BUDGET 2025 SPEECH /'}, excluded_embed_metadata_keys=['source_document'], excluded_llm_metadata_keys=[], relationships={<NodeRelationship.SOURCE: '1'>: RelatedNodeInfo(node_id='d220a083-7765-4b29-9d89-4b82036466dc', node_type='4', metadata={'source_document': 'fy2025_budget_statement.pdf'}, hash='06f433139a43ef0893b7df9f1c18ddbfa6bd566fdd6c38f4656c4e16f7d73d84'), <NodeRelationship.PREVIOUS: '2'>: RelatedNodeInfo(node_id='59816983-d8b9-46b3-8dc1-a252dfbcf8b0', node_type='1', metadata={'source_document': 'fy2025_budget_statement.pdf', 'header_path': '/'}, hash='e02006647997a041ff31a44b5b2bc32e90ba61c34ce3068a44fd6dec096b1993')}, metadata_template='{key}: {value}', metadata_separator='\\n', text=\"## ONWARD TOGETHER FOR A BETTER TOMORROW\\n\\nA. Introduction ..... 3\\nB. Tackling Cost Pressures ..... 9\\nC. Advancing our Growth Frontier ..... 17\\nEnhancing our Technology and Innovation Engines ..... 19\\nStrengthening our Enterprise Ecosystem ..... 24\\nTackling Infrastructure and Resource Constraints ..... 30\\nD. Equipping Workers Throughout Life ..... 38\\nEncouraging Lifelong Learning ..... 39\\nSupporting our Enterprises in Workforce Transformation ..... 43\\nStrengthening Support for Workers ..... 49\\nE. Building a Sustainable City ..... 53\\nGreening and Enhancing our Transport Sector ..... 54\\nSecuring a Climate-Resilient Future ..... 57\\nEmbracing Sustainability as a Lifestyle ..... 60\\nF. Nurturing a Caring and Inclusive Society ..... 62\\nImproving the Resilience of Vulnerable Families ..... 62\\nBuilding a Singapore Made for Families ..... 65\\nEnabling Seniors to Age Well ..... 68\\nEmpowering Persons with Disabilities ..... 73\\n\\nG. Rallying as One United People ..... 78\\nRecognising Singaporeans' Contributions ..... 78\\nStrengthening Our National Identity and Our Community Bonds ..... 80\\nH. Fiscal Position ..... 87\\nBuilding A Fairer and More Resilient Tax System ..... 87\\nFY2024 and FY2025 Fiscal Position ..... 90\\nMedium-Term Fiscal Outlook ..... 92\\nI. Conclusion ..... 95\", mimetype='text/plain', start_char_idx=0, end_char_idx=1274, metadata_seperator='\\n', text_template='{metadata_str}\\n\\n{content}'), score=np.float32(2.1856763)), NodeWithScore(node=TextNode(id_='59816983-d8b9-46b3-8dc1-a252dfbcf8b0', embedding=None, metadata={'source_document': 'fy2025_budget_statement.pdf', 'header_path': '/'}, excluded_embed_metadata_keys=['source_document'], excluded_llm_metadata_keys=[], relationships={<NodeRelationship.SOURCE: '1'>: RelatedNodeInfo(node_id='d220a083-7765-4b29-9d89-4b82036466dc', node_type='4', metadata={'source_document': 'fy2025_budget_statement.pdf'}, hash='06f433139a43ef0893b7df9f1c18ddbfa6bd566fdd6c38f4656c4e16f7d73d84')}, metadata_template='{key}: {value}', metadata_separator='\\n', text='# BUDGET 2025 SPEECH', mimetype='text/plain', start_char_idx=0, end_char_idx=20, metadata_seperator='\\n', text_template='{metadata_str}\\n\\n{content}'), score=np.float32(0.7119027)), NodeWithScore(node=TextNode(id_='71173b19-ac1c-4402-a33a-f861d3f39dbf', embedding=None, metadata={'source_document': 'fy2025_budget_statement.pdf', 'header_path': '/'}, excluded_embed_metadata_keys=['source_document'], excluded_llm_metadata_keys=[], relationships={<NodeRelationship.SOURCE: '1'>: RelatedNodeInfo(node_id='d220a083-7765-4b29-9d89-4b82036466dc', node_type='4', metadata={'source_document': 'fy2025_budget_statement.pdf'}, hash='06f433139a43ef0893b7df9f1c18ddbfa6bd566fdd6c38f4656c4e16f7d73d84'), <NodeRelationship.PREVIOUS: '2'>: RelatedNodeInfo(node_id='0ac6db31-5211-4e56-bc0f-4d1b08fa088c', node_type='1', metadata={'source_document': 'fy2025_budget_statement.pdf', 'header_path': '/'}, hash='8705e148ff03782af0303059b4b4653884def1013c81206badd244f4f7a6384d')}, metadata_template='{key}: {value}', metadata_separator='\\n', text='187. This is what the Singapore spirit is about.\\n188. At every turn, we have chosen determination over despair, innovation over stagnation, and solidarity over division.\\n189. Every generation has carved a path through its challenges, and paved the way for the next generation to go even further.\\n190. Budget 2025 sets out clear plans for us to continue this journey with confidence.\\na. It is a Budget for the future - tackling immediate challenges, while laying the groundwork for a stronger, more resilient tomorrow.\\n\\nb. It is a Budget for all Singaporeans. Because when Singapore thrives, every citizen benefits. Every Singaporean is supported from birth to old age, with more support given to those with less. No one is left behind.\\nc. Importantly, this is a Budget shaped together with all Singaporeans - advancing our Forward Singapore efforts to build the Singapore we want, and empowering each of us to contribute towards our shared future.\\n191. The road ahead will not be without challenges, but I am confident that our best days lie ahead of us. Together, we can keep Singapore an evergreen oasis of stability, hope, and opportunity for all. So let us move onward together for a better tomorrow.\\n192. Mr Speaker, I beg to move.', mimetype='text/plain', start_char_idx=2279, end_char_idx=3515, metadata_seperator='\\n', text_template='{metadata_str}\\n\\n{content}'), score=np.float32(-0.4204945)), NodeWithScore(node=TextNode(id_='179f948c-c7f9-456b-82b0-adc721c5a418', embedding=None, metadata={'source_document': 'fy2025_budget_statement.pdf', 'header_path': '/'}, excluded_embed_metadata_keys=['source_document'], excluded_llm_metadata_keys=[], relationships={<NodeRelationship.SOURCE: '1'>: RelatedNodeInfo(node_id='d220a083-7765-4b29-9d89-4b82036466dc', node_type='4', metadata={'source_document': 'fy2025_budget_statement.pdf'}, hash='06f433139a43ef0893b7df9f1c18ddbfa6bd566fdd6c38f4656c4e16f7d73d84'), <NodeRelationship.PREVIOUS: '2'>: RelatedNodeInfo(node_id='9e5cc617-bf07-4ef8-bbd3-e97f9d2d1952', node_type='1', metadata={'source_document': 'fy2025_budget_statement.pdf', 'header_path': '/'}, hash='d1a7dcfef89231396aa004fae50e8be593c0a2da36b708bd61c4aca9981a4580')}, metadata_template='{key}: {value}', metadata_separator='\\n', text=\"But despite the uncertainties, we can look ahead with a degree of confidence. Singapore today is far stronger than we were 60 years ago.\\na. We have developed a strong and well-diversified economy, supported by a highly skilled workforce.\\nb. We have built up a robust SAF and a strong diplomatic network, to uphold our sovereignty and security.\\nc. We have forged a common Singaporean identity, grounded in our shared values and experiences, and our commitment to one another and our nation.\\n14. This is the legacy of generations of Singaporeans, with each one running a good race. The baton has now been passed, and it is our turn to take Singapore forward. This Budget builds on previous Budgets, not only to address today's challenges, but to plan ahead and secure Singapore's future.\\n15. Budget 2025 is a Budget for all Singaporeans.\\n\\n16. It's also a Budget shaped together with all Singaporeans. It further advances our Forward Singapore agenda, which incorporates your aspirations and views, and seeks to keep our society strong and united.\\n17. In this Budget, we will work with you to:\\na. Tackle cost pressures;\\nb. Advance our growth frontier;\\nc. Equip workers throughout life;\\nd. Build a sustainable city;\\ne. Nurture a caring and inclusive society; and\\nf. Rally as one united people.\\n18. \", mimetype='text/plain', start_char_idx=2979, end_char_idx=4273, metadata_seperator='\\n', text_template='{metadata_str}\\n\\n{content}'), score=np.float32(-1.4277387))], metadata={'98518d83-8e77-4298-8283-fe3551f40768': {'source_document': 'fy2025_budget_statement.pdf', 'header_path': '/BUDGET 2025 SPEECH /'}, '59816983-d8b9-46b3-8dc1-a252dfbcf8b0': {'source_document': 'fy2025_budget_statement.pdf', 'header_path': '/'}, '71173b19-ac1c-4402-a33a-f861d3f39dbf': {'source_document': 'fy2025_budget_statement.pdf', 'header_path': '/'}, '179f948c-c7f9-456b-82b0-adc721c5a418': {'source_document': 'fy2025_budget_statement.pdf', 'header_path': '/'}}), is_error=False)], source_nodes=[NodeWithScore(node=TextNode(id_='98518d83-8e77-4298-8283-fe3551f40768', embedding=None, metadata={'source_document': 'fy2025_budget_statement.pdf', 'header_path': '/BUDGET 2025 SPEECH /'}, excluded_embed_metadata_keys=['source_document'], excluded_llm_metadata_keys=[], relationships={<NodeRelationship.SOURCE: '1'>: RelatedNodeInfo(node_id='d220a083-7765-4b29-9d89-4b82036466dc', node_type='4', metadata={'source_document': 'fy2025_budget_statement.pdf'}, hash='06f433139a43ef0893b7df9f1c18ddbfa6bd566fdd6c38f4656c4e16f7d73d84'), <NodeRelationship.PREVIOUS: '2'>: RelatedNodeInfo(node_id='59816983-d8b9-46b3-8dc1-a252dfbcf8b0', node_type='1', metadata={'source_document': 'fy2025_budget_statement.pdf', 'header_path': '/'}, hash='e02006647997a041ff31a44b5b2bc32e90ba61c34ce3068a44fd6dec096b1993')}, metadata_template='{key}: {value}', metadata_separator='\\n', text=\"## ONWARD TOGETHER FOR A BETTER TOMORROW\\n\\nA. Introduction ..... 3\\nB. Tackling Cost Pressures ..... 9\\nC. Advancing our Growth Frontier ..... 17\\nEnhancing our Technology and Innovation Engines ..... 19\\nStrengthening our Enterprise Ecosystem ..... 24\\nTackling Infrastructure and Resource Constraints ..... 30\\nD. Equipping Workers Throughout Life ..... 38\\nEncouraging Lifelong Learning ..... 39\\nSupporting our Enterprises in Workforce Transformation ..... 43\\nStrengthening Support for Workers ..... 49\\nE. Building a Sustainable City ..... 53\\nGreening and Enhancing our Transport Sector ..... 54\\nSecuring a Climate-Resilient Future ..... 57\\nEmbracing Sustainability as a Lifestyle ..... 60\\nF. Nurturing a Caring and Inclusive Society ..... 62\\nImproving the Resilience of Vulnerable Families ..... 62\\nBuilding a Singapore Made for Families ..... 65\\nEnabling Seniors to Age Well ..... 68\\nEmpowering Persons with Disabilities ..... 73\\n\\nG. Rallying as One United People ..... 78\\nRecognising Singaporeans' Contributions ..... 78\\nStrengthening Our National Identity and Our Community Bonds ..... 80\\nH. Fiscal Position ..... 87\\nBuilding A Fairer and More Resilient Tax System ..... 87\\nFY2024 and FY2025 Fiscal Position ..... 90\\nMedium-Term Fiscal Outlook ..... 92\\nI. Conclusion ..... 95\", mimetype='text/plain', start_char_idx=0, end_char_idx=1274, metadata_seperator='\\n', text_template='{metadata_str}\\n\\n{content}'), score=np.float32(2.1856763)), NodeWithScore(node=TextNode(id_='59816983-d8b9-46b3-8dc1-a252dfbcf8b0', embedding=None, metadata={'source_document': 'fy2025_budget_statement.pdf', 'header_path': '/'}, excluded_embed_metadata_keys=['source_document'], excluded_llm_metadata_keys=[], relationships={<NodeRelationship.SOURCE: '1'>: RelatedNodeInfo(node_id='d220a083-7765-4b29-9d89-4b82036466dc', node_type='4', metadata={'source_document': 'fy2025_budget_statement.pdf'}, hash='06f433139a43ef0893b7df9f1c18ddbfa6bd566fdd6c38f4656c4e16f7d73d84')}, metadata_template='{key}: {value}', metadata_separator='\\n', text='# BUDGET 2025 SPEECH', mimetype='text/plain', start_char_idx=0, end_char_idx=20, metadata_seperator='\\n', text_template='{metadata_str}\\n\\n{content}'), score=np.float32(0.7119027)), NodeWithScore(node=TextNode(id_='71173b19-ac1c-4402-a33a-f861d3f39dbf', embedding=None, metadata={'source_document': 'fy2025_budget_statement.pdf', 'header_path': '/'}, excluded_embed_metadata_keys=['source_document'], excluded_llm_metadata_keys=[], relationships={<NodeRelationship.SOURCE: '1'>: RelatedNodeInfo(node_id='d220a083-7765-4b29-9d89-4b82036466dc', node_type='4', metadata={'source_document': 'fy2025_budget_statement.pdf'}, hash='06f433139a43ef0893b7df9f1c18ddbfa6bd566fdd6c38f4656c4e16f7d73d84'), <NodeRelationship.PREVIOUS: '2'>: RelatedNodeInfo(node_id='0ac6db31-5211-4e56-bc0f-4d1b08fa088c', node_type='1', metadata={'source_document': 'fy2025_budget_statement.pdf', 'header_path': '/'}, hash='8705e148ff03782af0303059b4b4653884def1013c81206badd244f4f7a6384d')}, metadata_template='{key}: {value}', metadata_separator='\\n', text='187. This is what the Singapore spirit is about.\\n188. At every turn, we have chosen determination over despair, innovation over stagnation, and solidarity over division.\\n189. Every generation has carved a path through its challenges, and paved the way for the next generation to go even further.\\n190. Budget 2025 sets out clear plans for us to continue this journey with confidence.\\na. It is a Budget for the future - tackling immediate challenges, while laying the groundwork for a stronger, more resilient tomorrow.\\n\\nb. It is a Budget for all Singaporeans. Because when Singapore thrives, every citizen benefits. Every Singaporean is supported from birth to old age, with more support given to those with less. No one is left behind.\\nc. Importantly, this is a Budget shaped together with all Singaporeans - advancing our Forward Singapore efforts to build the Singapore we want, and empowering each of us to contribute towards our shared future.\\n191. The road ahead will not be without challenges, but I am confident that our best days lie ahead of us. Together, we can keep Singapore an evergreen oasis of stability, hope, and opportunity for all. So let us move onward together for a better tomorrow.\\n192. Mr Speaker, I beg to move.', mimetype='text/plain', start_char_idx=2279, end_char_idx=3515, metadata_seperator='\\n', text_template='{metadata_str}\\n\\n{content}'), score=np.float32(-0.4204945)), NodeWithScore(node=TextNode(id_='179f948c-c7f9-456b-82b0-adc721c5a418', embedding=None, metadata={'source_document': 'fy2025_budget_statement.pdf', 'header_path': '/'}, excluded_embed_metadata_keys=['source_document'], excluded_llm_metadata_keys=[], relationships={<NodeRelationship.SOURCE: '1'>: RelatedNodeInfo(node_id='d220a083-7765-4b29-9d89-4b82036466dc', node_type='4', metadata={'source_document': 'fy2025_budget_statement.pdf'}, hash='06f433139a43ef0893b7df9f1c18ddbfa6bd566fdd6c38f4656c4e16f7d73d84'), <NodeRelationship.PREVIOUS: '2'>: RelatedNodeInfo(node_id='9e5cc617-bf07-4ef8-bbd3-e97f9d2d1952', node_type='1', metadata={'source_document': 'fy2025_budget_statement.pdf', 'header_path': '/'}, hash='d1a7dcfef89231396aa004fae50e8be593c0a2da36b708bd61c4aca9981a4580')}, metadata_template='{key}: {value}', metadata_separator='\\n', text=\"But despite the uncertainties, we can look ahead with a degree of confidence. Singapore today is far stronger than we were 60 years ago.\\na. We have developed a strong and well-diversified economy, supported by a highly skilled workforce.\\nb. We have built up a robust SAF and a strong diplomatic network, to uphold our sovereignty and security.\\nc. We have forged a common Singaporean identity, grounded in our shared values and experiences, and our commitment to one another and our nation.\\n14. This is the legacy of generations of Singaporeans, with each one running a good race. The baton has now been passed, and it is our turn to take Singapore forward. This Budget builds on previous Budgets, not only to address today's challenges, but to plan ahead and secure Singapore's future.\\n15. Budget 2025 is a Budget for all Singaporeans.\\n\\n16. It's also a Budget shaped together with all Singaporeans. It further advances our Forward Singapore agenda, which incorporates your aspirations and views, and seeks to keep our society strong and united.\\n17. In this Budget, we will work with you to:\\na. Tackle cost pressures;\\nb. Advance our growth frontier;\\nc. Equip workers throughout life;\\nd. Build a sustainable city;\\ne. Nurture a caring and inclusive society; and\\nf. Rally as one united people.\\n18. \", mimetype='text/plain', start_char_idx=2979, end_char_idx=4273, metadata_seperator='\\n', text_template='{metadata_str}\\n\\n{content}'), score=np.float32(-1.4277387)), NodeWithScore(node=TextNode(id_='98518d83-8e77-4298-8283-fe3551f40768', embedding=None, metadata={'source_document': 'fy2025_budget_statement.pdf', 'header_path': '/BUDGET 2025 SPEECH /'}, excluded_embed_metadata_keys=['source_document'], excluded_llm_metadata_keys=[], relationships={<NodeRelationship.SOURCE: '1'>: RelatedNodeInfo(node_id='d220a083-7765-4b29-9d89-4b82036466dc', node_type='4', metadata={'source_document': 'fy2025_budget_statement.pdf'}, hash='06f433139a43ef0893b7df9f1c18ddbfa6bd566fdd6c38f4656c4e16f7d73d84'), <NodeRelationship.PREVIOUS: '2'>: RelatedNodeInfo(node_id='59816983-d8b9-46b3-8dc1-a252dfbcf8b0', node_type='1', metadata={'source_document': 'fy2025_budget_statement.pdf', 'header_path': '/'}, hash='e02006647997a041ff31a44b5b2bc32e90ba61c34ce3068a44fd6dec096b1993')}, metadata_template='{key}: {value}', metadata_separator='\\n', text=\"## ONWARD TOGETHER FOR A BETTER TOMORROW\\n\\nA. Introduction ..... 3\\nB. Tackling Cost Pressures ..... 9\\nC. Advancing our Growth Frontier ..... 17\\nEnhancing our Technology and Innovation Engines ..... 19\\nStrengthening our Enterprise Ecosystem ..... 24\\nTackling Infrastructure and Resource Constraints ..... 30\\nD. Equipping Workers Throughout Life ..... 38\\nEncouraging Lifelong Learning ..... 39\\nSupporting our Enterprises in Workforce Transformation ..... 43\\nStrengthening Support for Workers ..... 49\\nE. Building a Sustainable City ..... 53\\nGreening and Enhancing our Transport Sector ..... 54\\nSecuring a Climate-Resilient Future ..... 57\\nEmbracing Sustainability as a Lifestyle ..... 60\\nF. Nurturing a Caring and Inclusive Society ..... 62\\nImproving the Resilience of Vulnerable Families ..... 62\\nBuilding a Singapore Made for Families ..... 65\\nEnabling Seniors to Age Well ..... 68\\nEmpowering Persons with Disabilities ..... 73\\n\\nG. Rallying as One United People ..... 78\\nRecognising Singaporeans' Contributions ..... 78\\nStrengthening Our National Identity and Our Community Bonds ..... 80\\nH. Fiscal Position ..... 87\\nBuilding A Fairer and More Resilient Tax System ..... 87\\nFY2024 and FY2025 Fiscal Position ..... 90\\nMedium-Term Fiscal Outlook ..... 92\\nI. Conclusion ..... 95\", mimetype='text/plain', start_char_idx=0, end_char_idx=1274, metadata_seperator='\\n', text_template='{metadata_str}\\n\\n{content}'), score=np.float32(2.1856763)), NodeWithScore(node=TextNode(id_='59816983-d8b9-46b3-8dc1-a252dfbcf8b0', embedding=None, metadata={'source_document': 'fy2025_budget_statement.pdf', 'header_path': '/'}, excluded_embed_metadata_keys=['source_document'], excluded_llm_metadata_keys=[], relationships={<NodeRelationship.SOURCE: '1'>: RelatedNodeInfo(node_id='d220a083-7765-4b29-9d89-4b82036466dc', node_type='4', metadata={'source_document': 'fy2025_budget_statement.pdf'}, hash='06f433139a43ef0893b7df9f1c18ddbfa6bd566fdd6c38f4656c4e16f7d73d84')}, metadata_template='{key}: {value}', metadata_separator='\\n', text='# BUDGET 2025 SPEECH', mimetype='text/plain', start_char_idx=0, end_char_idx=20, metadata_seperator='\\n', text_template='{metadata_str}\\n\\n{content}'), score=np.float32(0.7119027)), NodeWithScore(node=TextNode(id_='71173b19-ac1c-4402-a33a-f861d3f39dbf', embedding=None, metadata={'source_document': 'fy2025_budget_statement.pdf', 'header_path': '/'}, excluded_embed_metadata_keys=['source_document'], excluded_llm_metadata_keys=[], relationships={<NodeRelationship.SOURCE: '1'>: RelatedNodeInfo(node_id='d220a083-7765-4b29-9d89-4b82036466dc', node_type='4', metadata={'source_document': 'fy2025_budget_statement.pdf'}, hash='06f433139a43ef0893b7df9f1c18ddbfa6bd566fdd6c38f4656c4e16f7d73d84'), <NodeRelationship.PREVIOUS: '2'>: RelatedNodeInfo(node_id='0ac6db31-5211-4e56-bc0f-4d1b08fa088c', node_type='1', metadata={'source_document': 'fy2025_budget_statement.pdf', 'header_path': '/'}, hash='8705e148ff03782af0303059b4b4653884def1013c81206badd244f4f7a6384d')}, metadata_template='{key}: {value}', metadata_separator='\\n', text='187. This is what the Singapore spirit is about.\\n188. At every turn, we have chosen determination over despair, innovation over stagnation, and solidarity over division.\\n189. Every generation has carved a path through its challenges, and paved the way for the next generation to go even further.\\n190. Budget 2025 sets out clear plans for us to continue this journey with confidence.\\na. It is a Budget for the future - tackling immediate challenges, while laying the groundwork for a stronger, more resilient tomorrow.\\n\\nb. It is a Budget for all Singaporeans. Because when Singapore thrives, every citizen benefits. Every Singaporean is supported from birth to old age, with more support given to those with less. No one is left behind.\\nc. Importantly, this is a Budget shaped together with all Singaporeans - advancing our Forward Singapore efforts to build the Singapore we want, and empowering each of us to contribute towards our shared future.\\n191. The road ahead will not be without challenges, but I am confident that our best days lie ahead of us. Together, we can keep Singapore an evergreen oasis of stability, hope, and opportunity for all. So let us move onward together for a better tomorrow.\\n192. Mr Speaker, I beg to move.', mimetype='text/plain', start_char_idx=2279, end_char_idx=3515, metadata_seperator='\\n', text_template='{metadata_str}\\n\\n{content}'), score=np.float32(-0.4204945)), NodeWithScore(node=TextNode(id_='179f948c-c7f9-456b-82b0-adc721c5a418', embedding=None, metadata={'source_document': 'fy2025_budget_statement.pdf', 'header_path': '/'}, excluded_embed_metadata_keys=['source_document'], excluded_llm_metadata_keys=[], relationships={<NodeRelationship.SOURCE: '1'>: RelatedNodeInfo(node_id='d220a083-7765-4b29-9d89-4b82036466dc', node_type='4', metadata={'source_document': 'fy2025_budget_statement.pdf'}, hash='06f433139a43ef0893b7df9f1c18ddbfa6bd566fdd6c38f4656c4e16f7d73d84'), <NodeRelationship.PREVIOUS: '2'>: RelatedNodeInfo(node_id='9e5cc617-bf07-4ef8-bbd3-e97f9d2d1952', node_type='1', metadata={'source_document': 'fy2025_budget_statement.pdf', 'header_path': '/'}, hash='d1a7dcfef89231396aa004fae50e8be593c0a2da36b708bd61c4aca9981a4580')}, metadata_template='{key}: {value}', metadata_separator='\\n', text=\"But despite the uncertainties, we can look ahead with a degree of confidence. Singapore today is far stronger than we were 60 years ago.\\na. We have developed a strong and well-diversified economy, supported by a highly skilled workforce.\\nb. We have built up a robust SAF and a strong diplomatic network, to uphold our sovereignty and security.\\nc. We have forged a common Singaporean identity, grounded in our shared values and experiences, and our commitment to one another and our nation.\\n14. This is the legacy of generations of Singaporeans, with each one running a good race. The baton has now been passed, and it is our turn to take Singapore forward. This Budget builds on previous Budgets, not only to address today's challenges, but to plan ahead and secure Singapore's future.\\n15. Budget 2025 is a Budget for all Singaporeans.\\n\\n16. It's also a Budget shaped together with all Singaporeans. It further advances our Forward Singapore agenda, which incorporates your aspirations and views, and seeks to keep our society strong and united.\\n17. In this Budget, we will work with you to:\\na. Tackle cost pressures;\\nb. Advance our growth frontier;\\nc. Equip workers throughout life;\\nd. Build a sustainable city;\\ne. Nurture a caring and inclusive society; and\\nf. Rally as one united people.\\n18. \", mimetype='text/plain', start_char_idx=2979, end_char_idx=4273, metadata_seperator='\\n', text_template='{metadata_str}\\n\\n{content}'), score=np.float32(-1.4277387))], is_dummy_stream=False, metadata=None)"
      ]
     },
     "execution_count": 48,
     "metadata": {},
     "output_type": "execute_result"
    }
   ],
   "source": [
    "chat_engine.chat(questions[0]['question'])"
   ]
  },
  {
   "cell_type": "code",
   "execution_count": null,
   "metadata": {},
   "outputs": [],
   "source": []
  }
 ],
 "metadata": {
  "kernelspec": {
   "display_name": ".venv",
   "language": "python",
   "name": "python3"
  },
  "language_info": {
   "codemirror_mode": {
    "name": "ipython",
    "version": 3
   },
   "file_extension": ".py",
   "mimetype": "text/x-python",
   "name": "python",
   "nbconvert_exporter": "python",
   "pygments_lexer": "ipython3",
   "version": "3.12.9"
  }
 },
 "nbformat": 4,
 "nbformat_minor": 2
}
