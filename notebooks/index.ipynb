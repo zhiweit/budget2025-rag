{
 "cells": [
  {
   "cell_type": "code",
   "execution_count": 57,
   "metadata": {},
   "outputs": [
    {
     "data": {
      "text/plain": [
       "True"
      ]
     },
     "execution_count": 57,
     "metadata": {},
     "output_type": "execute_result"
    }
   ],
   "source": [
    "from mistralai import Mistral\n",
    "import os\n",
    "from dotenv import load_dotenv\n",
    "\n",
    "load_dotenv('../.envrc')\n",
    "\n"
   ]
  },
  {
   "cell_type": "code",
   "execution_count": 93,
   "metadata": {},
   "outputs": [],
   "source": [
    "import phoenix as px\n",
    "import llama_index.core\n",
    "\n",
    "def launch_phoenix():\n",
    "    px.launch_app()\n",
    "    llama_index.core.set_global_handler(\"arize_phoenix\")\n",
    "\n",
    "def close_phoenix():\n",
    "    px.close_app()\n"
   ]
  },
  {
   "cell_type": "markdown",
   "metadata": {},
   "source": [
    "### PDF Files"
   ]
  },
  {
   "cell_type": "code",
   "execution_count": 4,
   "metadata": {},
   "outputs": [],
   "source": [
    "file_path = '../data/fy2025_budget_statement.pdf'\n",
    "file_name = 'fy2025_budget_statement.pdf'"
   ]
  },
  {
   "cell_type": "code",
   "execution_count": null,
   "metadata": {},
   "outputs": [],
   "source": []
  },
  {
   "cell_type": "markdown",
   "metadata": {},
   "source": [
    "#### Convert PDF to text\n",
    "\n",
    "Use [Mistral OCR API](https://docs.mistral.ai/capabilities/document/) because\n",
    "- Parse PDF into markdown\n",
    "- Allow for images in pdf (base64)\n"
   ]
  },
  {
   "cell_type": "code",
   "execution_count": 3,
   "metadata": {},
   "outputs": [],
   "source": [
    "\n",
    "MISTRAL_API_KEY = os.environ[\"MISTRAL_API_KEY\"]\n",
    "\n",
    "client = Mistral(api_key=MISTRAL_API_KEY)\n"
   ]
  },
  {
   "cell_type": "code",
   "execution_count": 5,
   "metadata": {},
   "outputs": [
    {
     "data": {
      "text/plain": [
       "UploadFileOut(id='e215a65b-8ce4-467b-8242-01d7735cb6a6', object='file', size_bytes=614571, created_at=1744378402, filename='fy2025_budget_statement.pdf', purpose='ocr', sample_type='ocr_input', source='upload', num_lines=None)"
      ]
     },
     "execution_count": 5,
     "metadata": {},
     "output_type": "execute_result"
    }
   ],
   "source": [
    "\n",
    "uploaded_pdf = client.files.upload(\n",
    "    file={\n",
    "        \"file_name\": file_name,\n",
    "        \"content\": open(file_path, \"rb\"),\n",
    "    },\n",
    "    purpose=\"ocr\"\n",
    ")\n",
    "uploaded_pdf"
   ]
  },
  {
   "cell_type": "code",
   "execution_count": 6,
   "metadata": {},
   "outputs": [
    {
     "data": {
      "text/plain": [
       "FileSignedURL(url='https://mistralaifilesapiprodswe.blob.core.windows.net/fine-tune/ca9f74b9-2aeb-457f-a3ac-a81ac3401e24/e215a65b8ce4467b824201d7735cb6a6.pdf?se=2025-04-12T13%3A33%3A52Z&sp=r&sv=2025-05-05&sr=b&sig=sODIvuBG8YUzEc1Q1Ohyv/Ci3tXqBZmw2fDNv0gzixw%3D')"
      ]
     },
     "execution_count": 6,
     "metadata": {},
     "output_type": "execute_result"
    }
   ],
   "source": [
    "signed_url = client.files.get_signed_url(file_id=uploaded_pdf.id)\n",
    "signed_url\n"
   ]
  },
  {
   "cell_type": "code",
   "execution_count": 7,
   "metadata": {},
   "outputs": [],
   "source": [
    "# Send to Mistral OCR API\n",
    "ocr_response = client.ocr.process(\n",
    "            model=\"mistral-ocr-latest\",\n",
    "            document={\n",
    "                \"type\": \"document_url\",\n",
    "                \"document_url\": signed_url.url,\n",
    "            },\n",
    "            include_image_base64=False,\n",
    "        )\n",
    "        \n",
    "markdown = '\\n\\n'.join([page.markdown for page in ocr_response.pages])"
   ]
  },
  {
   "cell_type": "code",
   "execution_count": 10,
   "metadata": {},
   "outputs": [
    {
     "data": {
      "text/plain": [
       "[OCRPageObject(index=0, markdown='# BUDGET 2025 SPEECH \\n\\n## ONWARD TOGETHER FOR A BETTER TOMORROW\\n\\nA. Introduction ..... 3\\nB. Tackling Cost Pressures ..... 9\\nC. Advancing our Growth Frontier ..... 17\\nEnhancing our Technology and Innovation Engines ..... 19\\nStrengthening our Enterprise Ecosystem ..... 24\\nTackling Infrastructure and Resource Constraints ..... 30\\nD. Equipping Workers Throughout Life ..... 38\\nEncouraging Lifelong Learning ..... 39\\nSupporting our Enterprises in Workforce Transformation ..... 43\\nStrengthening Support for Workers ..... 49\\nE. Building a Sustainable City ..... 53\\nGreening and Enhancing our Transport Sector ..... 54\\nSecuring a Climate-Resilient Future ..... 57\\nEmbracing Sustainability as a Lifestyle ..... 60\\nF. Nurturing a Caring and Inclusive Society ..... 62\\nImproving the Resilience of Vulnerable Families ..... 62\\nBuilding a Singapore Made for Families ..... 65\\nEnabling Seniors to Age Well ..... 68\\nEmpowering Persons with Disabilities ..... 73', images=[], dimensions=OCRPageDimensions(dpi=200, height=2339, width=1654)),\n",
       " OCRPageObject(index=1, markdown=\"G. Rallying as One United People ..... 78\\nRecognising Singaporeans' Contributions ..... 78\\nStrengthening Our National Identity and Our Community Bonds ..... 80\\nH. Fiscal Position ..... 87\\nBuilding A Fairer and More Resilient Tax System ..... 87\\nFY2024 and FY2025 Fiscal Position ..... 90\\nMedium-Term Fiscal Outlook ..... 92\\nI. Conclusion ..... 95\", images=[], dimensions=OCRPageDimensions(dpi=200, height=2339, width=1654)),\n",
       " OCRPageObject(index=2, markdown='# A. Introduction \\n\\nMr Speaker, Sir\\n\\n1. I move that Parliament approve the financial policy of the Government for the financial year 1 April 2025 to 31 March 2026.\\n2. 2025 marks our $60^{\\\\text {th }}$ year of independence. It has been a remarkable journey, reflecting the grit and resilience of generations of Singaporeans in building our nation.\\n3. 60 years ago, the world was very different:\\na. It was the height of the Cold War, with the Berlin Wall standing as a stark symbol of division between the United States and the Soviet Union.\\nb. In Asia, the Cold War spilled over into proxy fights, with devastating wars in Vietnam, Laos, and Cambodia.', images=[], dimensions=OCRPageDimensions(dpi=200, height=2339, width=1654)),\n",
       " OCRPageObject(index=3, markdown=\"4. As a fledgling nation, Singapore faced monumental challenges.\\na. Racial tensions were high. Unemployment was rampant.\\nb. The withdrawal of British forces shortly after independence dealt a heavy blow to our defence and our economy.\\nc. In a world divided by blocs, we had no hinterland and no natural allies. Survival seemed improbable.\\n5. Yet in that crucible of fire, our pioneers forged a nation.\\na. We refused to be pawns in someone else's game. We turned our vulnerabilities into strength.\\nb. We plugged into the world as an open and neutral hub for commerce and diplomacy.\\nc. Together, we defined our relevance to the world and built this nation.\", images=[], dimensions=OCRPageDimensions(dpi=200, height=2339, width=1654)),\n",
       " OCRPageObject(index=4, markdown='6. Today, we face a new global contest. The stark divides of the Cold War have given way to a fragmented and troubled world. New walls are being erected - not of concrete, but in the form of economic and trade barriers.\\n7. And once again, we will have to find ways to navigate a turbulent external environment.\\n8. We have done well so far. We bounced back strongly from the Covid-19 pandemic, and ended last year on a strong footing.\\na. Our economy grew by $4.4 \\\\%$.\\nb. Inflation continued to ease.\\nc. Singaporeans saw wage increases that outpaced inflation. The median income of resident workers rose by $3.4 \\\\%$ above inflation.\\nd. Income inequality, after government taxes and transfers, is at its lowest since 2000.\\n9. All this has given us good momentum for our next phase.', images=[], dimensions=OCRPageDimensions(dpi=200, height=2339, width=1654)),\n",
       " OCRPageObject(index=5, markdown='10. But we expect greater global uncertainty and downside risks.\\na. The US and China are locked in a fierce contest for global supremacy.\\nb. Neither side wants to come to blows. But both know that economic heft and technological prowess are key to winning this global race.\\nc. And both are prepared to take more assertive actions to advance their own interests, even at the expense of established international norms.\\nd. So we can expect escalating attempts at containment and counter-containment, with ripple effects that will inevitably draw in other countries, including Singapore.\\n11. All these pressures will reshape the global economy and dampen prospects for global growth. As a small and open economy, we will feel the impact.\\n12. For 2025, we expect a more moderate outlook. Growth is projected at $1 \\\\%$ to $3 \\\\%$, while inflation is expected to average $1.5 \\\\%$ to $2.5 \\\\%$.', images=[], dimensions=OCRPageDimensions(dpi=200, height=2339, width=1654)),\n",
       " OCRPageObject(index=6, markdown=\"13. But despite the uncertainties, we can look ahead with a degree of confidence. Singapore today is far stronger than we were 60 years ago.\\na. We have developed a strong and well-diversified economy, supported by a highly skilled workforce.\\nb. We have built up a robust SAF and a strong diplomatic network, to uphold our sovereignty and security.\\nc. We have forged a common Singaporean identity, grounded in our shared values and experiences, and our commitment to one another and our nation.\\n14. This is the legacy of generations of Singaporeans, with each one running a good race. The baton has now been passed, and it is our turn to take Singapore forward. This Budget builds on previous Budgets, not only to address today's challenges, but to plan ahead and secure Singapore's future.\\n15. Budget 2025 is a Budget for all Singaporeans.\", images=[], dimensions=OCRPageDimensions(dpi=200, height=2339, width=1654)),\n",
       " OCRPageObject(index=7, markdown=\"16. It's also a Budget shaped together with all Singaporeans. It further advances our Forward Singapore agenda, which incorporates your aspirations and views, and seeks to keep our society strong and united.\\n17. In this Budget, we will work with you to:\\na. Tackle cost pressures;\\nb. Advance our growth frontier;\\nc. Equip workers throughout life;\\nd. Build a sustainable city;\\ne. Nurture a caring and inclusive society; and\\nf. Rally as one united people.\\n18. And I will go through each of these in turn.\", images=[], dimensions=OCRPageDimensions(dpi=200, height=2339, width=1654)),\n",
       " OCRPageObject(index=8, markdown=\"# B. Tackling Cost Pressures \\n\\n19. Let me start by addressing concerns over rising costs, for both individuals and businesses.\\n20. Global inflation rose sharply in 2022, following the outbreak of the war in Ukraine, and remained high after that due to energy, food, and supply chain disruptions. Like many other countries, Singapore was impacted.\\n21. That's why we have been providing additional support measures over the last two years to cushion the impact on Singaporeans.\\na. Last year, I enhanced the Assurance Package by $\\\\$ 1.9$ billion.\\nb. The Package has helped to fully offset the effects of inflation for lower-income households, and to provide a significant cushion for middle-income households.\", images=[], dimensions=OCRPageDimensions(dpi=200, height=2339, width=1654)),\n",
       " OCRPageObject(index=9, markdown='22. We will continue to provide support for as long as needed, within our means. While inflation is expected to ease further this year, prices remain high. Singaporeans are still adjusting to these new price realities. Some have had to tighten their belts, rethink spending habits, or make difficult trade-offs to manage their expenses.\\n23. Therefore, in this Budget, I will provide additional support for Singaporeans.\\na. First, I will provide $\\\\$ 800$ in CDC Vouchers to every Singaporean household.\\ni. The first $\\\\$ 500$ will be disbursed in May this year. And the remaining $\\\\$ 300$ will be disbursed in January next year.\\nii. As with previous CDC Vouchers, half can be used at participating supermarkets. And the other half can be used at participating heartland merchants and hawkers.', images=[], dimensions=OCRPageDimensions(dpi=200, height=2339, width=1654)),\n",
       " OCRPageObject(index=10, markdown='# b. Second, I will provide additional U-Save rebates to help households cope with their utilities expenses. Eligible HDB households will receive up to $\\\\$ 760$ this financial year. This is double the amount of regular U-Save rebates. It will cover about six months of utilities expenses for those living in 1and 2-room flats, and three months of utilities expenses for those living in 3- and 4-room flats. \\n\\n## c. Third, I will provide more support to families with children. They will receive $\\\\$ 500$ in LifeSG credits for each Singaporean child aged 12 and below this year. These credits are the same as the LifeSG credits we gave to national servicemen last year. And parents can use them to defray their household expenses.\\n\\n## d. Every Singaporean aged 13 to 20 this year will also receive a $\\\\$ 500$ top-up to their Edusave account, or their Post-\\n\\nSecondary Education Account. They can use this top-up to pay for their approved education-related expenses.', images=[], dimensions=OCRPageDimensions(dpi=200, height=2339, width=1654)),\n",
       " OCRPageObject(index=11, markdown=\"24. More support will be extended to individuals and families who face greater financial stress.\\na. We will increase the rates for the ComCare Assistance schemes, to better support lower-income households with basic living expenses. For example, a 1-person household on Long-Term Assistance will receive an additional $\\\\$ 120$ each month, bringing the monthly cash assistance to $\\\\$ 760$. Those supported by Short-to-Medium-Term Assistance will also receive more than before, based on the household's composition, needs, and income.\\nb. In tandem, we will increase the Singapore Allowance, which is an ex-gratia payment that some of our pensioners receive. It will increase from $\\\\$ 350$ to $\\\\$ 390$ each month, to support those with smaller pensions. And the monthly pension ceiling will also increase to $\\\\$ 1,320$.\\nc. Through the ComCare Interim Assistance scheme, we will also provide more support for community organisations as well, to help households in need.\", images=[], dimensions=OCRPageDimensions(dpi=200, height=2339, width=1654)),\n",
       " OCRPageObject(index=12, markdown='25. We are also paying close attention to public housing.\\na. We have ramped up our BTO supply decisively. Application rates for BTO flats have stabilised, and are now well below pre-Covid-19 levels.\\nb. We will continue with the robust supply pipeline. Over the next three years, MND will launch more than 50,000 new flats in a wide range of locations, including in Woodlands, Bayshore, and Mount Pleasant.\\nc. Last year, more than eight in 10 first-timer families who collected keys to their BTO flats were able to service their monthly mortgage loans with little or zero out-of-pocket cash. To put in perspective, this is a level of affordability that residents in other major cities like London, Sydney, and Hong Kong do not enjoy. But we have been able to achieve this in Singapore. And we will continue to keep public housing affordable and accessible for all.', images=[], dimensions=OCRPageDimensions(dpi=200, height=2339, width=1654)),\n",
       " OCRPageObject(index=13, markdown=\"26. Some Singaporeans prefer resale flats as they have shorter waiting times. But they are understandably concerned about the higher prices of resale flats. Our cooling and supply measures will eventually help to stabilise the resale market. Meanwhile, we will offer more options to home seekers who want their flats sooner.\\na. This year, HDB will launch around 3,800 flats with a waiting time of less than three years. This is about 20\\\\% of the full year's BTO supply. And we will continue to increase the supply of such flats in the coming years.\\nb. HDB also launched the largest ever Sale of Balance Flats exercise last week, with around 5,500 flats available islandwide, and it plans to hold another balance flat exercise later this year.\\n27. Higher prices also affect our businesses, many of whom are grappling with the higher costs of rent and labour.\", images=[], dimensions=OCRPageDimensions(dpi=200, height=2339, width=1654)),\n",
       " OCRPageObject(index=14, markdown=\"28. So I will introduce a 50\\\\% Corporate Income Tax rebate in the Year of Assessment 2025.\\na. Not all companies are profitable, and some may not benefit from such a rebate. So, I will provide every active company that employed at least one local employee last year a minimum benefit of $\\\\$ 2,000$.\\nb. The total benefit that each company will receive will be capped at $\\\\$ 40,000$.\\n29. Despite facing higher cost pressures, I'm glad that many businesses remain committed to uplifting the wages of lower-wage workers.\\na. The Government will continue to share this responsibility with employers.\\nb. And taking into account feedback from employers, I will enhance the Progressive Wage Credit Scheme, by increasing the Government's co-funding levels for wage increases from $30 \\\\%$ in 2025 to $40 \\\\%$, and from $15 \\\\%$ in 2026 to $20 \\\\%$.\", images=[], dimensions=OCRPageDimensions(dpi=200, height=2339, width=1654)),\n",
       " OCRPageObject(index=15, markdown='30. The measures we have taken in recent years, and are taking in this Budget, will help to mitigate the impact of rising costs.\\n31. But in the longer term, the best way to adjust to higher prices is to grow the economy and increase productivity, so that all Singaporeans can enjoy higher real incomes and better standards of living. And let me turn to our strategies next in these areas.', images=[], dimensions=OCRPageDimensions(dpi=200, height=2339, width=1654)),\n",
       " OCRPageObject(index=16, markdown='# C. Advancing our Growth Frontier \\n\\n32. We will take bold and decisive actions to advance our growth frontier.\\n33. The Singapore economy now operates at a higher level. But we cannot afford to stand still. Global economic competition is intensifying. And many other countries and cities are pressing ahead. If we fail to stay competitive, we will be left behind. We must therefore redouble efforts to grow our economy, and keep it dynamic and vibrant.\\n34. Growth has a direct impact on the collective wellbeing of Singaporeans.\\na. Last year, our economy grew by more than $4 \\\\%$. This meant higher wages and real incomes for many, many workers.\\nb. It will be hard to achieve $4 \\\\%$ growth on a sustained basis. But if we can secure an average of $2 \\\\%$ to $3 \\\\%$ growth per annum over the next decade, we will be able to create better jobs and opportunities, and improve standards of living for all Singaporeans.', images=[], dimensions=OCRPageDimensions(dpi=200, height=2339, width=1654)),\n",
       " OCRPageObject(index=17, markdown='35. To achieve this, we must continue to uphold several fundamentals. That includes:\\na. Maintaining sound monetary and fiscal policies;\\nb. Harnessing market forces to drive efficiency and innovation;\\nc. Staying open to people and ideas to strengthen our capabilities;\\nd. And deepening our tripartite partnership as a cornerstone of economic stability.\\n36. At the same time, our approach and strategy must adapt to changing circumstances.\\na. At this stage of development, we can no longer compete on cost alone. Instead, we must differentiate ourselves by producing high-value solutions for the world.\\nb. To take our economy forward, this Budget will emphasise three key areas: technology and innovation, our enterprise ecosystem, as well as our infrastructure investments amidst resource constraints.', images=[], dimensions=OCRPageDimensions(dpi=200, height=2339, width=1654)),\n",
       " OCRPageObject(index=18, markdown=\"# Enhancing our Technology and Innovation Engines \\n\\n37. First, we will enhance our technology and innovation engines. This is crucial because new ideas, innovation and technological progress are the drivers of growth.\\n38. We see this in the US, where the technology sector, powered by Silicon Valley and companies like Apple, Amazon, Alphabet and Tesla, has helped to propel the country's dynamism and innovation.\\n39. We don't operate at the same scale as the US. But we can still excel in specific areas of innovation and technology.\\na. We have a new generation of local tech companies like Grab, Sea and Razer, which have established themselves as regional or industry leaders.\\nb. We are home to the world's top tech companies. They already have substantial activities here, and are keen to do more out of Singapore, including in new frontier areas like artificial intelligence (or AI) and quantum computing.\", images=[], dimensions=OCRPageDimensions(dpi=200, height=2339, width=1654)),\n",
       " OCRPageObject(index=19, markdown=\"40. We also have considerable strengths in several industries.\\na. We are a key player in semiconductors, supplying more than $10 \\\\%$ of chips and producing one-fifth of semiconductor equipment worldwide.\\nb. Just as silicon chips fuel the tech industry, DNA chips are unlocking new frontiers in life sciences. These chips enable scientists to sequence DNA, which can be used to diagnose diseases or identify patient risks. They demand high levels of precision engineering, to implant millions of DNA strands onto a glass or silicon surface. Singapore alone produces more than $80 \\\\%$ of the world's DNA chips.\\nc. In fact, we are a key node for the broader life sciences sector. Eight of the world's top 10 pharmaceutical companies have manufacturing operations here. We are also a major producer of advanced medical devices, including cardiac implants and hearing aids.\", images=[], dimensions=OCRPageDimensions(dpi=200, height=2339, width=1654)),\n",
       " OCRPageObject(index=20, markdown=\"41. Take the example of American medtech company Illumina. It is the global leader in next-generation genetic sequencing instruments and DNA chips.\\na. Illumina has a strong footprint in Singapore. We serve as its Asia-Pacific headquarters, and host a key R\\\\&D and manufacturing site here.\\nb. This is Illumina's genome sequencer, which is designed and manufactured in Singapore. Engineers across different disciplines worked together to design this. When Covid-19 first emerged, it was such a machine that first sequenced the virus. It did so within hours, allowing scientists around the world to start developing drugs and vaccines.\\nc. Illumina's presence has benefited other Singapore enterprises, like Venture Corporation and Sunningdale Tech. Their partnerships with Illumina have helped them to build new innovation capabilities and expand to new areas.\", images=[], dimensions=OCRPageDimensions(dpi=200, height=2339, width=1654)),\n",
       " OCRPageObject(index=21, markdown='42. To enhance our technology and innovation engines, we have to anchor more high-quality investments. There have been attempts internationally through BEPS 2.0 to ensure that multinational enterprises (or MNEs) pay a minimum level of taxes worldwide, or to tilt the playing field in favour of governments. But in reality, MNEs wield considerable leverage and options. And that is why governments everywhere are still spending significant amounts to attract investments.\\n43. We cannot afford to outbid the major economies. But we do need to set aside sufficient resources to maximise our competitive strengths. So I will top up the National Productivity Fund by \\\\$3 billion.\\n44. Our R\\\\&D efforts are critical in powering our innovation and technology engines.\\na. The Government has consistently invested about 1\\\\% of GDP annually in R\\\\&D over the last 20 years.', images=[], dimensions=OCRPageDimensions(dpi=200, height=2339, width=1654)),\n",
       " OCRPageObject(index=22, markdown='b. These investments have borne fruit. For example, our biotech ecosystem would not be where it is today without Biopolis, which we built more than 20 years ago. It also served as a platform for biotech talent to gather and share knowledge - knowledge that then diffused into our education system, which uplifted a new generation of Singaporeans.\\n45. To sustain this momentum, we must invest to keep our R\\\\&D infrastructure at the cutting edge.\\na. For our biotech sector, we will refresh our public biosciences and medtech research infrastructure in the greater one-north area. This will provide state-of-the-art facilities, promote collaboration within our research community, and enable faster translation of research into commercial solutions.\\nb. In the semiconductor space, we will develop a new national semiconductor R\\\\&D fabrication facility. This will provide industry-grade tools for researchers and industry partners to prototype and test new semiconductor innovations.\\nc. These developments will cost about $\\\\$ 1$ billion.', images=[], dimensions=OCRPageDimensions(dpi=200, height=2339, width=1654)),\n",
       " OCRPageObject(index=23, markdown='46. We will also support companies that undertake R\\\\&D and innovation in partnership with other stakeholders. We have a good suite of schemes today, which we will further enhance. And more details are in the Annex to the Budget.\\n\\n# Strengthening our Enterprise Ecosystem \\n\\n47. Second, we will strengthen our enterprise ecosystem.\\na. Over the years, we have developed a stronger pool of globally competitive startups and enterprises.\\nb. But there is still more to be done.\\n48. We want Singapore to be a place where exciting ventures develop and grow into the leading enterprises of the future.', images=[], dimensions=OCRPageDimensions(dpi=200, height=2339, width=1654)),\n",
       " OCRPageObject(index=24, markdown='a. We already have a good pipeline of such promising enterprises. For example, AEM Holdings is a Singaporeheadquartered provider of semiconductor testing solutions. Its products serve a critical role in the chip production process, by helping to detect manufacturing defects or design flaws. AEM today has a global footprint, with manufacturing plants and R\\\\&D teams across Asia, Europe, and the US.\\nb. We will provide more support for enterprises to scale up, execute their growth plans, and compete on the global stage. In particular, I will extend our support schemes for internationalisation, and for mergers and acquisitions. And again, the details are in the Annex to the Budget.\\nc. Some ventures are started by global companies, or by experienced entrepreneurs. As our investment promotion agency, EDB has close links with these multinational firms and entrepreneurs. So EDB will launch a Global Founder Programme later this year to encourage global founders to anchor and grow more new ventures in Singapore.', images=[], dimensions=OCRPageDimensions(dpi=200, height=2339, width=1654)),\n",
       " OCRPageObject(index=25, markdown='49. To succeed, all enterprises must invest in technology to enhance their competitiveness and productivity. Enterprises can adopt off-the-shelf solutions like Al-powered analytics and digital marketing tools. We will continue to encourage the adoption of such solutions through initiatives like the Productivity Solutions Grant and the SMEs Go Digital.\\n50. Beyond a certain stage, enterprises will need Al solutions, which are tailored to their needs and integrated into their business processes and systems. To support this, I will set aside up to $\\\\$ 150$ million for a new Enterprise Compute Initiative. Under this initiative, eligible enterprises will be partnered with major cloud service providers to access Al tools and computing power, as well as expert consultancy services. This will help enterprises leverage Al more effectively in their transformation journey.', images=[], dimensions=OCRPageDimensions(dpi=200, height=2339, width=1654)),\n",
       " OCRPageObject(index=26, markdown='51. Companies also need capital to execute their growth plans.\\na. We now have a more vibrant financing ecosystem, backed by a growing network of angel investors, venture capitalists, and private equity firms.\\nb. This is complemented by Government investment funds which invest in promising companies alongside commercial partners like 65 Equity Partners and Heliconia Capital.\\nc. Over the past five years, we have set aside over $\\\\$ 1.8$ billion to support enterprise growth through investment funds. Like other private equity funds, our investments generally span a 3- to 7-year horizon. To help enterprises with longer growth trajectories, we will deploy some of our funds as patient capital, with longer investment horizons, to ensure that promising companies have the resources they need to thrive.', images=[], dimensions=OCRPageDimensions(dpi=200, height=2339, width=1654)),\n",
       " OCRPageObject(index=27, markdown='52. Globally, we have seen the emergence of a private credit market which offers innovative financing solutions to enterprises.\\na. But few of these private credit funds focus on Asia, much less Singapore-based enterprises.\\nb. So we will introduce a new $\\\\$ 1$ billion Private Credit Growth Fund.\\nc. This will provide more financing options for high-growth local enterprises. And the Minister for Trade and Industry will share more at the Committee of Supply.\\n53. As enterprises scale up, they may also list on a stock exchange to access more capital. Larger companies with significant overseas revenues will typically choose to list abroad to be closer to their main consumer markets. We recognise and accept these as commercial decisions. But there has been feedback that the Singapore Stock Exchange is not attractive, even for companies that are focused mainly on Singapore and Southeast Asia.', images=[], dimensions=OCRPageDimensions(dpi=200, height=2339, width=1654)),\n",
       " OCRPageObject(index=28, markdown='54. And that is why we set up the Equities Market Review Group, chaired by Minister Chee Hong Tat, to strengthen the attractiveness of our stock market to such listings and investments.\\na. The Review Group has developed its first set of measures. They include several tax-related recommendations which have been submitted to MOF, just in time for the Budget.\\nb. I accept their recommendations and will introduce tax incentives for Singapore-based companies and fund managers that choose to list in Singapore and grow their economic activities here. I will also introduce a tax incentive for fund managers which invest substantially in Singapore-listed equities, to encourage more investment in our capital markets.\\nc. The Review Group will share more details on its measures in the coming days.', images=[], dimensions=OCRPageDimensions(dpi=200, height=2339, width=1654)),\n",
       " OCRPageObject(index=29, markdown='# Tackling Infrastructure and Resource Constraints \\n\\n55. Third, to unlock our growth potential, we must invest in worldclass infrastructure and find innovative ways to overcome our resource constraints.\\n56. Singapore thrives as a hub economy, facilitating the flow of people, capital, goods, and ideas. To sustain this position, we must ensure excellent connectivity with the rest of the world, both physically and digitally.\\na. Development on the Tuas Port is progressing well, and Singapore recorded new highs last year in vessel arrival tonnage, container throughput and bunker sales. This reinforces our role as a leading maritime hub.\\nb. We have achieved islandwide 5G coverage, and we are upgrading our Nationwide Broadband Network to deliver speeds up to 10 times faster. This will enhance digital connectivity for businesses and individuals.', images=[], dimensions=OCRPageDimensions(dpi=200, height=2339, width=1654)),\n",
       " OCRPageObject(index=30, markdown=\"57. Our air hub is another key pillar of connectivity. We will break ground for Changi Airport Terminal 5 in the coming months. When completed, Terminal 5 will expand our airport's capacity by more than $50 \\\\%$, and will ensure that Singapore remains a critical gateway for global travel and trade.\\na. To ensure sufficient resources to develop our air hub, I will top up the Changi Airport Development Fund by $\\\\$ 5$ billion.\\nb. With the President's concurrence, the Government will also provide a guarantee to Changi Airport Group. This will help to lower the cost of borrowings needed to develop Terminal 5 and supporting infrastructure in Changi East.\\n58. Besides infrastructure, we also need better solutions to address our resource constraints, and enhance our economic resilience.\\na. A generation ago, our critical constraint was water.\\nb. We tackled this head-on, developed NEWater and built our water industry.\", images=[], dimensions=OCRPageDimensions(dpi=200, height=2339, width=1654)),\n",
       " OCRPageObject(index=31, markdown=\"c. Today, we face a different challenge. The industries of the future - artificial intelligence, semiconductors, biopharmaceuticals - are highly energy-intensive.\\nd. To meet these growing energy needs and to bring down our carbon emissions at the same time, we will need more clean power.\\ne. Expanding access to clean energy is therefore a major national imperative.\\n59. One immediate solution is to import low-carbon electricity from the region.\\na. We are making progress on such electricity imports. We've started a pilot with Peninsular Malaysia, and expanded the capacity of a power trading initiative with Laos, Thailand and Malaysia.\\nb. By 2035, we expect that about one-third of our projected electricity demand can be met through electricity imports.\", images=[], dimensions=OCRPageDimensions(dpi=200, height=2339, width=1654)),\n",
       " OCRPageObject(index=32, markdown='60. But beyond imports, we also need to have our own domestic sources of clean power to ensure greater energy resilience.\\na. Our options are inherently limited, because we do not have the natural resources nor the land to meet our needs using hydro, wind, or solar power.\\nb. We have been closely evaluating the use of low-carbon hydrogen for power generation.\\nc. But there are inherent challenges in the production, storage and transportation of hydrogen, which make it hard to scale up in a commercially viable manner.\\n61. One established low-carbon energy source that is used globally is nuclear power.\\na. We had considered the possibility of using nuclear power back in 2010.\\nb. We assessed then that conventional nuclear technologies were not suitable for Singapore.', images=[], dimensions=OCRPageDimensions(dpi=200, height=2339, width=1654)),\n",
       " OCRPageObject(index=33, markdown='c. But we continued to keep a close eye on nuclear energy developments, and progressively built capabilities in nuclear safety over the past decade to keep our options open.\\nd. Since then, we have seen significant advancements in nuclear technologies.\\ne. One such development is that of small modular reactors (or SMRs), which have better safety features than conventional reactors. Presently, only a few SMRs have been deployed around the world, but many more could become operational by the end of this decade.\\nf. Interest in nuclear energy is also increasing worldwide. In our region, several countries are planning to include nuclear in their energy mix. Malaysia and Indonesia also have experience in nuclear technologies and have operated research reactors for some time.', images=[], dimensions=OCRPageDimensions(dpi=200, height=2339, width=1654)),\n",
       " OCRPageObject(index=34, markdown='62. We will therefore study the potential deployment of nuclear energy in Singapore. We will take further steps to systematically build up our capabilities in this area.\\na. We have signed agreements with the US on civil nuclear cooperation.\\nb. We are also working on similar cooperation with other countries, which have capabilities and experience in civilian nuclear power, especially SMRs.\\nc. Within the Government, we will reorganise ourselves to provide greater emphasis on this work. We will need new capabilities to evaluate options, and to consider if there is a solution that Singapore can deploy in a safe and costeffective way.\\nd. And these capabilities will also be needed for nuclear safety, which will become more salient given the growing regional interest in nuclear power.', images=[], dimensions=OCRPageDimensions(dpi=200, height=2339, width=1654)),\n",
       " OCRPageObject(index=35, markdown=\"63. Be it electricity imports, hydrogen or nuclear, we will need to make major investments in new infrastructure.\\na. And that's why we established the Future Energy Fund last year.\\nb. I will top up the Fund by $\\\\$ 5$ billion.\\nc. This will further support our critical undertaking to secure clean power for Singapore.\\n64. Our efforts to enhance our technology and innovation engines, strengthen our enterprise ecosystem, invest in new infrastructure and overcome our resource constraints, will enable us to refresh our value proposition and stay ahead in a rapidly changing world.\\n65. Over the decades, we can see how Singapore's economic success has translated to tangible improvements in our lives.\\na. In the past, tertiary graduates had fewer job options to choose from, with career paths revolving around a few traditional areas.\\nb. These days, the job landscape is far more diverse.\", images=[], dimensions=OCRPageDimensions(dpi=200, height=2339, width=1654)),\n",
       " OCRPageObject(index=36, markdown='c. Those with an interest in science and engineering can pursue opportunities in advanced manufacturing, IT, biomedical science and sustainability, amongst others. Those with strengths in creativity and people-oriented roles can explore careers in the creative industry, lifestyle and hospitality sectors, as well as sports and fitness.\\nd. Our thriving care economy also offers a wider range of opportunities, including in early childhood education, healthcare and elder care.\\n66. This is what economic dynamism and growth can deliver for our people. And so we will keep our economy strong and vibrant, and ensure that there are even more opportunities and good jobs for all Singaporeans - both now and in the future.', images=[], dimensions=OCRPageDimensions(dpi=200, height=2339, width=1654)),\n",
       " OCRPageObject(index=37, markdown=\"# D. Equipping Workers Throughout Life \\n\\n67. A growing economy creates more well-paying jobs. But the jobs of the future will not be the same as the jobs of today. Rapid technological advances, especially in Al, will transform workplaces and jobs.\\n68. Just a few years ago, tools like ChatGPT didn't even exist. Now there is a rapidly expanding ecosystem of Al models. They can generate high-quality text, images, and videos. They can write better programming code than many experts, assist in complex problemsolving, and even help to accelerate research breakthroughs.\\n69. Al will get better in the future, and other new disruptive technologies will emerge. It is hard to predict how they will impact specific industries and jobs. But one thing is clear: our workers must be equipped with the skills to stay competitive and relevant. That's why we are investing heavily in lifelong learning, and have made significant moves to strengthen SkillsFuture as a key pillar of our social compact.\", images=[], dimensions=OCRPageDimensions(dpi=200, height=2339, width=1654)),\n",
       " OCRPageObject(index=38, markdown=\"# Encouraging Lifelong Learning \\n\\n70. At last year's Budget, I introduced the SkillsFuture Level-Up Programme, to support mid-career Singaporeans in getting a significant skills reboot.\\na. Under the programme, all Singaporeans aged 40 years and above will get $\\\\$ 4,000$ in SkillsFuture Credit.\\nb. From next month, individuals can apply for a training allowance of up to $\\\\$ 3,000$ per month for selected full-time courses. They will have 24 months' worth of allowance, which is up to $\\\\$ 72,000$ per worker.\\n71. Some Singaporeans prefer to continue working, while upskilling on a part-time basis.\\na. Take for example, Ms Zarina Binti Abdul Rahman. She started out as an intern in Randstad Sourceright, a global recruitment agency, and is now an office administrator.\", images=[], dimensions=OCRPageDimensions(dpi=200, height=2339, width=1654)),\n",
       " OCRPageObject(index=39, markdown='b. She wants to upgrade her skills in business operations, but is unable to pursue full-time studies due to her work and family commitments. So she is pursuing a part-time Diploma in Business Practice at Nanyang Polytechnic.\\n72. While workers like Zarina continue to earn their salaries during part-time training, they also incur training-related expenses.\\na. We will therefore extend the training allowance to workers undergoing part-time training.\\nb. They can enjoy a fixed allowance of $\\\\$ 300$ per month to defray their learning expenses.\\nc. And this part-time training allowance will be implemented early next year.\\nd. The Minister for Education will share more at the Committee of Supply.', images=[], dimensions=OCRPageDimensions(dpi=200, height=2339, width=1654)),\n",
       " OCRPageObject(index=40, markdown='73. We will also give a further boost to our lower-wage workers, who will benefit from early upskilling.\\na. Today, our lower-wage workers can tap on the Workfare Skills Support Scheme from the age of 30.\\nb. The scheme provides employers with absentee payroll support when they sponsor workers for training. It also provides workers with a training allowance when they go for self-sponsored training.\\n74. Currently, the Workfare Skills Support Scheme is designed primarily to support short courses that are completed over a few days. But lower-wage workers stand to benefit more from longerform courses that provide more substantial reskilling and upskilling.\\n75. We will therefore introduce an enhanced tier of support under the Workfare Skills Support for lower-wage workers. This enhanced support will be modelled after the SkillsFuture Level-Up Programme, and will benefit lower-wage workers when they turn 30. So this will start earlier at age 30. The Minister for Manpower will share more details at the Committee of Supply (COS).', images=[], dimensions=OCRPageDimensions(dpi=200, height=2339, width=1654)),\n",
       " OCRPageObject(index=41, markdown='76. Our Institutes of Higher Learning are key partners in supporting lifelong learning. They equip our workers with relevant skills for a changing economy, and provide a dedicated setting for deep learning.\\na. We will support the Singapore University of Social Sciences (or SUSS) in developing a new city campus. This will enable SUSS to champion lifelong learning and deliver programmes with a strong social emphasis, at an accessible location in the city for learners of all ages.\\nb. We will also extend the Singapore Universities Trust by 10 years to 31 March 2042 to support the fundraising efforts of our newer Autonomous Universities, namely SUSS and the Singapore Institute of Technology. The Trust provides matching grants for donations, to support our Autonomous Universities in building up their endowment funds.\\n77. Sir, the Government is fully committed to supporting the lifelong employability of our workers. We cannot stop the waves of technological innovations. Nor can we save every job. But we can and we will invest in every worker and every Singaporean. We will equip everyone with the skills to adapt, compete and succeed in a changing economy.', images=[], dimensions=OCRPageDimensions(dpi=200, height=2339, width=1654)),\n",
       " OCRPageObject(index=42, markdown=\"# Supporting our Enterprises in Workforce Transformation \\n\\n78. And in tandem, we will help our companies to restructure and transform, and to upgrade their workforce.\\n79. Companies are best placed to drive business and workforce transformation. But some may face difficulties doing so due to shortterm cost pressures. And we've also received feedback and suggestions to streamline and improve the way government agencies administer their support to enterprises.\\n80. We will therefore introduce a new SkillsFuture Workforce Development Grant.\\na. This will bring together existing schemes administered by Workforce Singapore and SkillsFuture Singapore, and simplify the application process.\\nb. The new grant will also provide higher funding support of up to $70 \\\\%$ for job redesign activities.\", images=[], dimensions=OCRPageDimensions(dpi=200, height=2339, width=1654)),\n",
       " OCRPageObject(index=43, markdown='81. In addition, we will introduce a redesigned SkillsFuture Enterprise Credit.\\na. The credit is an existing scheme which helps employers defray the out-of-pocket costs for enterprise and workforce transformation.\\nb. But to use the credit, companies have to pay upfront for staff training, and then wait for reimbursement. And there are also employers who are not aware of the credit or how it can be used.\\n82. So we will redesign the credit to make it more accessible.\\na. The revamped credit will operate more like an online wallet.\\nb. Companies can easily check how much they have. And they can use the credits to immediately offset out-of-pocket costs for eligible workforce transformation initiatives and courses, rather than do so on a reimbursement basis.', images=[], dimensions=OCRPageDimensions(dpi=200, height=2339, width=1654)),\n",
       " OCRPageObject(index=44, markdown=\"83. All companies with at least three resident employees will get a fresh $\\\\mathbf{\\\\$ 1 0 , 0 0 0}$ in the redesigned SkillsFuture Enterprise credit. The new credit will be available in the second half of 2026 and will last for three years.\\n84. Meanwhile, companies can continue to use the existing credit. It was originally due to expire in June this year, but we will extend it until the new credit is ready.\\n85. Our tripartite partners play key roles in workforce transformation. In particular, NTUC's Company Training Committees (or CTCs) bring union leaders and employers together to design and implement workforce upgrading plans.\\n86. The results have been promising. Since the initiative started in 2019, NTUC has set up more than 2,700 CTCs. Almost four in five are in small and medium enterprises. Through the NTUC's CTC grant, NTUC is supporting more than 400 transformation projects, which will benefit over 7,000 workers with better work prospects.\", images=[], dimensions=OCRPageDimensions(dpi=200, height=2339, width=1654)),\n",
       " OCRPageObject(index=45, markdown=\"87. NTUC would like to start more CTCs and help more companies transform. We will support them in their efforts.\\na. I will set aside additional funding of around $\\\\$ 200$ million for NTUC's CTC grant, to help more companies transform.\\nb. We will also expand the CTC grant to support employer-led training that leads to formal qualifications or certifications.\\n88. Let me show how companies can benefit from all of these initiatives in a concrete way. Take for example SATS, our main air cargo handler and airline caterer at Changi Airport.\\na. SATS is investing in new equipment and technology to improve the efficiency of its catering services. It also needs to train its workers to handle the new equipment, and redesign workflows and jobs.\\nb. It can access the additional \\\\$10,000 in SkillsFuture Enterprise Credit. It can tap on the new SkillsFuture Workforce Development Grant to cover up to $90 \\\\%$ of the cost for reskilling workers, and up to $70 \\\\%$ of the cost for redesigning jobs.\", images=[], dimensions=OCRPageDimensions(dpi=200, height=2339, width=1654)),\n",
       " OCRPageObject(index=46, markdown=\"89. SATS has worked with NTUC to form a CTC, and has been sending its employees for the Work-Study Diploma in Airport Operations at ITE.\\na. The Work-Study Diploma helps these employees acquire critical skills, including managing operations and resource planning. And they can go on to take on supervisory roles in SATS, subject to good performance.\\nb. Currently, SATS fully sponsors its workers' out-of-pocket programme fees. The CTC grant will help to offset some of these training costs, and provide enhanced funding for absentee payroll when the trainee is away from work.\\nc. So these are tangible benefits that companies can enjoy and we encourage all companies to press on with their workforce and business transformation.\\n90. In addition to broader workforce transformation, we will strengthen our support to nurture and groom Singaporean leaders in the corporate sector.\\na. More and more Singaporeans are taking on leadership roles in large firms and MNEs operating here.\", images=[], dimensions=OCRPageDimensions(dpi=200, height=2339, width=1654)),\n",
       " OCRPageObject(index=47, markdown='b. We want to grow this leadership pipeline. We will provide more support to equip Singaporeans and enable them to succeed on their own merit.\\nc. To compete for leadership roles with regional and global responsibilities, Singaporeans must gain overseas experience - managing operations in different countries, navigating diverse cultures and working seamlessly across borders.\\nd. Currently, government agencies like Enterprise Singapore, MAS and IMDA have schemes which support companies to send Singaporeans for overseas work postings and leadership milestone programmes. The feedback from such schemes has been positive. So we will set aside more resources to increase the capacity of these schemes, and provide more opportunities for promising Singaporean leaders.\\ne. And the Minister for Manpower will share more at COS.', images=[], dimensions=OCRPageDimensions(dpi=200, height=2339, width=1654)),\n",
       " OCRPageObject(index=48, markdown=\"# Strengthening Support for Workers \\n\\n91. Even with reskilling and upskilling, some workers may face career setbacks due to economic and business disruptions.\\n92. We will help workers who lose their jobs to get back on their feet through the SkillsFuture Jobseeker Support scheme, which will start from April this year. The scheme will provide financial support of up to $\\\\$ 6,000$ over six months, to give our workers assurance as they undergo training or search for jobs.\\n93. We will also increase the provision of career matching services. Today, WSG and its partners, like NTUC's e2i, run about 30 centres and touchpoints islandwide, placing about 40,000 jobseekers every year. The centres work with the jobseekers to shortlist jobs, work on their resumes, and prepare them for interviews.\\n94. Besides nationwide programmes, there is benefit in facilitating job search at a localised level. This will help jobseekers who prefer to take on jobs near their homes, for example, to balance work and caregiving responsibilities.\\na. Today, North East CDC runs Job Placement Centres for its district, in partnership with WSG. The centres have yielded meaningful outcomes.\", images=[], dimensions=OCRPageDimensions(dpi=200, height=2339, width=1654)),\n",
       " OCRPageObject(index=49, markdown='b. We will expand localised job matching to all CDCs across the island.\\n95. We will also strengthen our support for two groups of workers in this Budget - seniors and ex-offenders.\\n96. More seniors are staying employed as our population ages. We want to work with employers to tap on the experience and wisdom of seniors who are able and wish to continue working.\\na. In the immediate term, I will extend the Senior Employment\\n\\nCredit (or SEC) by one year to end-2026. This will provide wage offsets for employers who hire Singaporean seniors aged 60 and above, and earning less than $\\\\$ 4,000$ a month.\\nb. In line with the increase in the re-employment age, I will raise the qualifying age for the highest SEC wage support tier to 69 years old, from 68 years old today. The Government will reimburse companies up to $7 \\\\%$ of the wages that they pay to workers aged 69 and above.', images=[], dimensions=OCRPageDimensions(dpi=200, height=2339, width=1654)),\n",
       " OCRPageObject(index=50, markdown='97. Later this year, MOM will convene a Tripartite Workgroup on Senior Employment. The workgroup will undertake a holistic and longer-term review of senior employment policies, to improve the employability of seniors, and increase the availability of jobs that better suit their needs.\\n98. In line with the recommendations of the Tripartite Workgroup on Older Workers, we will proceed with the next step of planned CPF contribution rate increases for senior workers. We will increase the CPF contribution rates for those aged above 55 to 65 by 1.5 percentage points in 2026.\\na. We will also continue to provide the CPF Transition Offset to employers for another year, to cover half of the increase in employer contributions for 2026.\\nb. With this move, senior workers can build up their retirement savings. And businesses will get continued support from the Government to cushion the impact on business cost.\\n99. For ex-offenders, employment is integral to their reintegration into society. To encourage employers to give ex-offenders a second chance, we had earlier introduced the Uplifting Employment Credit, which provides a wage offset to employers hiring ex-offenders.', images=[], dimensions=OCRPageDimensions(dpi=200, height=2339, width=1654)),\n",
       " OCRPageObject(index=51, markdown='a. Last year, the credit supported close to 700 employers in hiring more than 1,500 ex-offenders.\\nb. To encourage more employers to hire ex-offenders, I will extend the Uplifting Employment Credit to end-2028.\\n100. Sir, Singaporeans are at the core of everything we do. We will do everything we can to develop and realise the potential of all our people, so that they, in turn, realise their aspirations and dreams for themselves and their families.', images=[], dimensions=OCRPageDimensions(dpi=200, height=2339, width=1654)),\n",
       " OCRPageObject(index=52, markdown=\"# E. Building a Sustainable City \\n\\n101. Our Singapore Story is one of sustained investment and continuous improvement. Over time, we have transformed our living environment into a thriving metropolis and a beautiful home.\\n102. There's still much more to do in the years ahead. We will:\\na. Upgrade our homes and estates;\\nb. Refresh and rejuvenate our landscape and infrastructure; and\\nc. Importantly, prepare for a future of rising global temperatures.\\n103. Addressing the climate crisis requires strong international collaboration and collective action.\\na. Unfortunately, momentum on global climate efforts has slowed.\\nb. This will make it harder for all of us to tackle climate change.\", images=[], dimensions=OCRPageDimensions(dpi=200, height=2339, width=1654)),\n",
       " OCRPageObject(index=53, markdown='c. Despite these challenges, we remain resolute in our commitment to decarbonisation.\\n104. We will work with international partners and do our part to sustain efforts and drive meaningful progress.\\na. Just a week ago, we submitted our new climate target to the United Nations Framework Convention on Climate Change.\\nb. We have committed to reducing our emissions to between 45 to 50 million tonnes of carbon dioxide equivalent by 2035.\\nc. This will bring us one step closer to realising our longer-term aim of achieving net zero emissions by 2050.\\n\\n# Greening and Enhancing our Transport Sector \\n\\n105. I shared earlier about our plans to access more sources of clean power. That will be critical for us to achieve net zero.', images=[], dimensions=OCRPageDimensions(dpi=200, height=2339, width=1654)),\n",
       " OCRPageObject(index=54, markdown='106. Beyond energy, we will also accelerate efforts to decarbonise our transport sector, which accounts for about 15\\\\% of our total emissions today.\\na. Our aim is to have 100\\\\% cleaner energy vehicles by 2040, and we are making good progress towards this target.\\nb. Last year, around a third of all new cars registered were Electric Vehicles (or EVs) and almost half were hybrid vehicles.\\nc. But adoption of clean energy variants of heavy vehicles has been slower, due to limited model availability, higher upfront costs, and less accessible charging infrastructure.\\nd. To accelerate the adoption of clean heavy vehicles, we will introduce a new Heavy Vehicle Zero Emissions Scheme and an Electric Heavy Vehicle Charger Grant. These schemes will provide incentives for the purchase of a heavy vehicle, and co-funding of the charging infrastructure.\\ne. The Minister for Transport will share more at COS.', images=[], dimensions=OCRPageDimensions(dpi=200, height=2339, width=1654)),\n",
       " OCRPageObject(index=55, markdown='107. Currently, drivers of internal combustion engine vehicles pay fuel excise duties. These duties contribute to revenue, and also serve as a form of usage charge.\\na. EVs, while much less pollutive, should not be exempted from usage charges. We are still considering how to design a usage-charge mechanism for cleaner energy vehicles. In the interim, we have introduced the Additional Flat Component (or AFC) of road tax, for cars and electric light goods vehicles.\\nb. We will now introduce the AFC for electric heavy goods vehicles and buses.\\nc. The AFC will be set at $\\\\$ 250$ per year for electric heavy goods vehicles, and $\\\\$ 190$ and $\\\\$ 550$ per year for electric minibuses and large buses respectively. It will be phased in over three years starting from January 2026, and will be implemented in full by January 2028.\\n108. Alongside electrification, increasing the use of mass public transport is central to reducing emissions, and our vision of a more connected and car-lite Singapore.\\na. Our target is for eight in 10 households to be within a 10minute walk from a train station.', images=[], dimensions=OCRPageDimensions(dpi=200, height=2339, width=1654)),\n",
       " OCRPageObject(index=56, markdown='b. We are investing over $\\\\$ 60$ billion in this decade to expand and renew our rail network, which forms the backbone of our public transport system.\\nc. Singaporeans can look forward to the new Jurong Region Line and Cross Island Line, as well as the extensions of the Thomson-East Coast Line, Downtown Line, and the Circle Line. We will continue to study how our rail network can be expanded.\\nd. And we are also investing close to an additional $\\\\$ 1$ billion to increase and enhance our bus services under the Bus Connectivity Enhancement Programme.\\n\\n# Securing a Climate-Resilient Future \\n\\n109. As we do our part to reduce emissions in Singapore, we also have to assume the worst, and take steps to protect ourselves against climate risks.', images=[], dimensions=OCRPageDimensions(dpi=200, height=2339, width=1654)),\n",
       " OCRPageObject(index=57, markdown='a. If the world continues on a fossil fuel-based development trajectory over the coming years, global temperatures will keep rising, and that means we can expect a mean sea level rise of over one metre by 2100 .\\nb. Coupled with high tides and storm surges, the impact will be significant, well above one metre, and that means that around one-third of Singapore will be vulnerable to coastal flooding.\\nc. We are therefore developing and implementing plans to better protect our island.\\n110. We will employ a range of solutions to do so. These range from static structures like sea walls, to more specialised measures like barrages and tidal gates, as well as reclamation to create more land.\\na. In the southeastern part of Singapore, we earlier announced plans to reclaim land to develop \"Long Island\". Besides raising the ground level above rising sea levels, this will create additional space for homes, as well as new waterfront parks for outdoor recreation.', images=[], dimensions=OCRPageDimensions(dpi=200, height=2339, width=1654)),\n",
       " OCRPageObject(index=58, markdown='b. In addition, PUB will complete site-specific studies for the Greater Southern Waterfront and Changi this year; studies for Jurong Island and the Northwest Coast are also underway. And step by step, we will complete the plans for coastal protection around the entire island.\\n111. The actual implementation of measures could stretch over two decades or longer, starting from the 2030s onwards. But it would be prudent to set aside funds now to ensure we can proceed with these major investments, which will benefit current and future generations. So I will top up the Coastal and Flood Protection Fund by $\\\\$ 5$ billion.', images=[], dimensions=OCRPageDimensions(dpi=200, height=2339, width=1654)),\n",
       " OCRPageObject(index=59, markdown=\"# Embracing Sustainability as a Lifestyle \\n\\n112. The Government is taking steps to green our energy and transport sectors, and to protect our island from climate risks. Singaporeans too, have a part to play in this. Sustainability is everyone's responsibility. Individuals have the power to drive change through their choices and behaviour.\\n113. To fully realise our green future, we will need to make lifestyle adjustments and adopt sustainable habits in our daily lives. Every individual action counts.\\na. Last year, we enhanced the Climate Friendly Households Programme by extending it to all HDB households, and increased the vouchers quantum to $\\\\$ 300$ and expanded its use to a broader range of energy- and water-efficient products.\\nb. We will further enhance the programme by providing an additional $\\\\$ 100$ worth of Climate Vouchers to HDB households.\\nc. We will also extend the Climate Vouchers to all Singapore Citizen households living in private properties.\", images=[], dimensions=OCRPageDimensions(dpi=200, height=2339, width=1654)),\n",
       " OCRPageObject(index=60, markdown=\"d. I encourage all households to make the switch to more resource-efficient products if you have not done so already.\\n114. We have come a long way in building today's Singapore. But our journey is far from over. Our next decade will be pivotal, as we accelerate efforts to decarbonise our economy, and enhance the climate resilience of our built environment. We have clear plans to do so. And as long as this Government is in charge, we are committed to delivering them. We will ensure that our island nation survives even as the oceans rise and we will build a better and greener future for all.\", images=[], dimensions=OCRPageDimensions(dpi=200, height=2339, width=1654)),\n",
       " OCRPageObject(index=61, markdown=\"# F. Nurturing a Caring and Inclusive Society \\n\\n115. A major part of our Forward Singapore agenda is to nurture a more caring and inclusive society - one where every Singaporean feels valued and supported, regardless of age, ability, and circumstance. And in this year's Budget, I will take further steps towards these goals.\\n\\n## Improving the Resilience of Vulnerable Families\\n\\n116. Families play a key role in strengthening our society and supporting each of us to be the best version of ourselves.\\n117. Lower-income and vulnerable families face more challenges. So we will do more to support their efforts to achieve stability, selfreliance, and mobility.\", images=[], dimensions=OCRPageDimensions(dpi=200, height=2339, width=1654)),\n",
       " OCRPageObject(index=62, markdown='118. In 2023, we introduced ComLink+.\\na. Under this initiative, we are providing more customised support. Family coaches and volunteer befrienders work directly with ComLink+ families. Together, they develop concrete action plans to achieve nearer- and longer-term goals, like obtaining employment and saving for a home.\\nb. As the families make progress, they will receive financial topups in the form of ComLink+ Progress Packages. For example, families can receive up to $\\\\$ 30,000$ in CPF top-ups if the adults sustain employment and do their part to save up for a home.\\n119. In tandem with ComLink+, we have the Fresh Start Housing Scheme. It helps second-timer families with children living in public rental flats to start afresh and own their own homes by buying a shorter-lease new flat with an additional housing grant.', images=[], dimensions=OCRPageDimensions(dpi=200, height=2339, width=1654)),\n",
       " OCRPageObject(index=63, markdown='120. We will enhance Fresh Start.\\na. Today, eligible families can receive a $\\\\$ 50,000$ grant to buy a new 2-room Flexi or Standard 3-room flat on a shorter lease. We will increase the grant to $\\\\mathbf{\\\\$ 7 5 , 0 0 0}$.\\nb. There are also first-timer families with children living in public rental flats. They typically face more significant challenges in life, like coping with medical issues in the family, or raising children as a single parent. Hence, they may have difficulties buying a flat with a full 99-year lease, even as first-timers.\\nc. To support these families in their home ownership journey, we will allow them to buy shorter-lease subsidised flats through Fresh Start.\\nd. And the Minister for National Development will share more at COS.', images=[], dimensions=OCRPageDimensions(dpi=200, height=2339, width=1654)),\n",
       " OCRPageObject(index=64, markdown=\"# Building a Singapore Made for Families \\n\\n121. While we provide targeted help for the more vulnerable groups, we will also do more to support all families across every stage of life. This begins with marriage and parenthood.\\na. We have made significant moves in recent years, including enhancing the Baby Bonus Cash Gift and the Government's contributions to the Child Development Account (or CDA).\\nb. We have just enhanced paid parental leave to 30 weeks in total, which will enable parents to spend more time with their infants.\\n122. In this Budget, we will further reduce monthly full-day childcare fee caps in Government-supported preschools.\\na. The fees will be capped at $\\\\$ 610$ for Anchor Operator centres and $\\\\$ 650$ for Partner Operator centres.\\nb. After basic childcare subsidies, a dual-income family will pay about $\\\\$ 300$ per child. Lower- and middle-income families will pay less after additional subsidies.\", images=[], dimensions=OCRPageDimensions(dpi=200, height=2339, width=1654)),\n",
       " OCRPageObject(index=65, markdown=\"c. So this reduction will keep full-day preschool expenses similar to those of the fees for primary school and afterschool student care combined.\\n123. Couples with more children often worry about additional costs, because the demands grow with each additional child. We will introduce a Large Families Scheme to support married couples who have, or aspire to have, three or more children. This will consist of three components.\\na. First, a $\\\\$ 5,000$ increase in the Child Development Account First Step Grant. This will apply to each third and subsequent child born from today onwards. The CDA monies can be used to defray preschool and healthcare expenses of the child and their siblings.\\nb. Second, a new $\\\\$ 5,000$ Large Family MediSave Grant. This will be disbursed into the mother's MediSave account again for each third and subsequent child born from today onwards. And this can be used to offset the mother's pregnancy and delivery costs, or her family members' healthcare expenses.\", images=[], dimensions=OCRPageDimensions(dpi=200, height=2339, width=1654)),\n",
       " OCRPageObject(index=66, markdown='c. Third, $\\\\$ 1,000$ in LifeSG credits will be disbursed annually to families for each of their third and subsequent children, during the years that the child turns one to six. And this can help to defray a wide range of household expenses.\\n124. Let me illustrate what all this means for couples with young children.\\na. Take the example of Elizabeth and Mervin. They have four children, turning one, four, seven, and eight this year. They will receive $\\\\$ 500$ in LifeSG credits for each child. This is to help them with cost pressures, which I had highlighted earlier in my speech. They will also receive $\\\\$ 1,000$ annually in Large Family LifeSG credits for each of their third and fourth children, up to when they turn six. That amounts to $\\\\$ 11,000$ in benefits from this Budget.\\nb. Or take another example. Joel and Kristen have two daughters turning three and five this year. They are expecting a baby boy in May. Again, they will receive the one-off $\\\\$ 500$ in LifeSG credits for each of their children.', images=[], dimensions=OCRPageDimensions(dpi=200, height=2339, width=1654)),\n",
       " OCRPageObject(index=67, markdown='c. But with a third child on the way, they will receive the full benefits of the Large Families Scheme- \\\\$5,000 in CDA, $\\\\$ 5,000$ in Medisave, and $\\\\$ 1,000$ every year until the child is six years old. So as a family, they will receive a total of $\\\\$ 17,500$.\\n\\n# Enabling Seniors to Age Well \\n\\n125. Seniors are an important part of many families. To support our seniors to live and age well, we have been reviewing and updating our approach to retirement, healthcare, and caregiving.\\n126. We have provided seniors more assurance for their retirement adequacy. We introduced the Majulah Package, to support all seniors born in 1973 or earlier. And we also enhanced the Workfare Income Supplement and the Silver Support Scheme.\\n127. Our priority is to empower our seniors to stay active and healthy. And that is why we rolled out Healthier SG and Age Well SG.', images=[], dimensions=OCRPageDimensions(dpi=200, height=2339, width=1654)),\n",
       " OCRPageObject(index=68, markdown='128. Our plans include creating a more conducive living environment for our seniors. Through the Enhancement for Active Seniors (or EASE) programme, we have significantly improved the mobility and safety of seniors through subsidised senior-friendly fittings and installations in HDB households.\\na. These have been well-received by HDB residents.\\nb. We will expand EASE for three years up to 2028 to households living in private properties, so that more seniors can benefit.\\n129. As we get older, we are all likely to spend more on healthcare. To provide more assurance, we will introduce a five-year Matched MediSave Scheme.\\na. The scheme will be made available to eligible lower-income seniors aged 55 to 70 years old.\\nb. For every dollar of voluntary top-ups received in their MediSave accounts, the Government will provide a dollar-for-dollar matching grant of up to $\\\\$ 1,000$ per year.', images=[], dimensions=OCRPageDimensions(dpi=200, height=2339, width=1654)),\n",
       " OCRPageObject(index=69, markdown='c. So this will complement the existing Matched Retirement Savings Scheme.\\nd. Both matched savings schemes will help lower-income seniors, especially our grandmothers, mothers, and aunts who were homemakers and caregivers. The contributions from the Government and their loved ones will better support their retirement and healthcare needs, and give them greater assurance as they age.\\n130. While we will do our best to help our seniors stay healthy, the reality is that over time more of them will become frail and may require long-term care.\\n131. Currently, the Government provides significant subsidies for long-term care services, particularly for lower- and middle-income families. This is complemented by CareShield Life, which is our national long-term care insurance scheme, which provides a monthly cash payout upon severe disability.\\n132. We will increase our support for seniors with more severe care needs and who may require residential care, such as in a nursing home.', images=[], dimensions=OCRPageDimensions(dpi=200, height=2339, width=1654)),\n",
       " OCRPageObject(index=70, markdown='a. We will increase existing subsidies for residential long-term care services by up to 15 percentage points. We will also raise the maximum qualifying per capita household income to $\\\\$ 4,800$.\\nb. Many in the older cohorts, especially those born in 1969 or earlier, do not benefit from CareShield Life, and therefore will face higher out-of-pocket costs. For this group, we will introduce additional subsidies of five percentage points.\\n133. Many seniors prefer to age in place as much as possible, supported by their families and friends. They can opt for a range of care options. Some may use care services like day care or home care, while others rely primarily on family caregiving. We will also enhance support across the entire spectrum.\\na. We will increase existing subsidies for long-term care services in the home and community by up to 10 percentage points, and similarly raise the maximum qualifying per capita household income to $\\\\$ 4,800$.\\nb. And we will similarly introduce additional subsidies for cohorts born in 1969 and earlier by 15 percentage points.', images=[], dimensions=OCRPageDimensions(dpi=200, height=2339, width=1654)),\n",
       " OCRPageObject(index=71, markdown=\"c. We will also increase the subsidies provided under the Seniors' Mobility and Enabling Fund to cover the rising costs of home healthcare items, like adult diapers, and to also cover additional categories of such items.\\n134. To better support those who are looking after seniors at home, we will enhance the Home Caregiving Grant. This is a cash grant which can be used to offset daily care costs.\\na. We will raise the quantum for the Home Caregiving Grant. The maximum grant will increase to $\\\\$ 600$ per month, from $\\\\$ 400$ today.\\nb. We will also raise the maximum qualifying per capita household income for the Home Caregiving Grant to $\\\\$ 4,800$, so that more caregivers receive support.\\n135. We expect at least 80,000 seniors to benefit from the enhanced long-term care subsidies and grants, which will be implemented from next year. The enhancements are expected to cost around $\\\\$ 300$ million in FY2026, and more in future years, as our population continues to age.\", images=[], dimensions=OCRPageDimensions(dpi=200, height=2339, width=1654)),\n",
       " OCRPageObject(index=72, markdown='136. Besides higher subsidies, insurance will also play a part in easing the cost burden of long-term care. With a rapidly ageing population, we have to work hard to manage the increase in longterm care costs, and ensure a good mix of funding support between individual co-payment, government subsidies and insurance. We are studying this issue carefully, and the Minister for Health will say more at COS.\\n\\n# Empowering Persons with Disabilities \\n\\n137. We will also do more to support persons with disabilities, and ensure they can live with dignity and pursue their aspirations.\\n138. We have laid good foundations with our investments in Early Intervention and Special Education, which support persons with disabilities until they are around 18. But many parents worry about what happens post-18, after their children graduate from the structured environment of a Special Education (or SPED) school.', images=[], dimensions=OCRPageDimensions(dpi=200, height=2339, width=1654)),\n",
       " OCRPageObject(index=73, markdown=\"139. We are looking into these post-18 pathways for these students, and studying how we can provide more meaningful support. In particular, those who are transiting to work may need more support to build up their work readiness and adjust to an employment setting. This includes additional learning support to gain soft skills and to adapt to new routines.\\na. Take 21-year-old Sharlyne Lee, for example. After graduating from St. Andrew's Autism School in 2021, she underwent three months of employment training in housekeeping and soft skills.\\nb. She was able to secure a 9-month internship with the Lee Ah Mooi Old Age Home as a General Housekeeping Assistant, under supportive supervisors.\\nc. At the end of the internship, she was offered full-time employment. And she is now doing well at this Home and happy to do her part to take care of the residents there.\", images=[], dimensions=OCRPageDimensions(dpi=200, height=2339, width=1654)),\n",
       " OCRPageObject(index=74, markdown='140. We want to see more stories like her. And so we will invest more in building the support structures for persons with disabilities to transit more smoothly from school to work. We will also do more for those with higher care needs, who need a more structured environment beyond school to stay active. These are issues which we will study comprehensively with stakeholders. It will be a multiyear endeavour, and the Minister for Social and Family Development and Minister for Education will share more at the COS.\\n141. Concurrently, we will provide more support for employers, who may be concerned about the costs and effort needed to redesign jobs and adapt their workplaces when they hire people with disabilities. In particular, we will extend the Enabling Employment Credit to end2028, to offset wages for persons with disabilities.\\n142. We will also provide more financial support to persons with disabilities.\\na. Their caregivers may benefit from the increase in the Home Caregiving Grant which I mentioned earlier.', images=[], dimensions=OCRPageDimensions(dpi=200, height=2339, width=1654)),\n",
       " OCRPageObject(index=75, markdown=\"b. As with the enhancements for seniors, we will increase subsidy rates for adult disability services, and raise the maximum qualifying per capita household income for these subsidies.\\nc. And we will expand the Matched Retirement Savings Scheme to include eligible Singaporeans with disabilities regardless of their age, to help them save for retirement early.\\n143. We will also step up efforts by SG Enable and the Special Needs Trust Company (or SNTC) to encourage families to plan ahead for their child's future care needs.\\na. Today, caregivers can set up financial care plans and set aside monies in trust accounts with SNTC, which will manage the trust monies for the person with disability when their caregivers pass on.\\nb. To support these efforts, we will provide a dollar-for-dollar matching grant for top-ups by lower- and middle-income caregivers to the trust accounts, up to $\\\\$ 10,000$.\", images=[], dimensions=OCRPageDimensions(dpi=200, height=2339, width=1654)),\n",
       " OCRPageObject(index=76, markdown=\"144. Sir, we are taking concrete steps to strengthen our social support system. In this Budget, l've focused on families, seniors and their long-term care needs, and persons with disabilities. But we will continue to review and update other policy areas over time. This is the Government's key priority. Because we want to build a Singapore where we have each other's backs, where no one is left behind, and where we continue to stay strong and united as one people.\", images=[], dimensions=OCRPageDimensions(dpi=200, height=2339, width=1654)),\n",
       " OCRPageObject(index=77, markdown=\"# G. Rallying as One United People \\n\\n145. Singaporeans across different generations and from all walks of life have played a vital role in getting us to SG60.\\n146. For a country, 60 years is a short time. But we have made great strides over this period, and there is much to be grateful for.\\n\\n## Recognising Singaporeans' Contributions\\n\\n147. In this Budget, I will introduce an SG60 package to recognise the contributions of all Singaporeans, and to share the benefits of our nation's progress.\\na. First, I will give SG60 Vouchers to all Singaporeans aged 21 and above this year.\\ni. Each one will receive $\\\\$ 600$ in SG60 Vouchers.\\n\\nSingaporean seniors aged 60 and above will receive \\\\$200 more - or $\\\\$ 800$ in vouchers.\", images=[], dimensions=OCRPageDimensions(dpi=200, height=2339, width=1654)),\n",
       " OCRPageObject(index=78, markdown=\"ii. The SG60 Vouchers are like CDC Vouchers. They can be used at all businesses that accept CDC Vouchers - and half can be spent at participating supermarkets and the other half at participating heartland merchants and hawkers.\\niii. We will disburse the SG60 Vouchers across the month of July. Seniors will claim first, and the rest later.\\niv. The People's Association and the CDCs will share more details later.\\nb. Second, I will provide a Personal Income Tax Rebate of 60\\\\%, for the Year of Assessment 2025. This will be capped at $\\\\$ 200$, so that the rebate mostly benefits our middle-income workers.\\nc. Third, as Minister Indranee had announced earlier, we will welcome all Singapore Citizen babies born this year with an SG60 Baby Gift.\", images=[], dimensions=OCRPageDimensions(dpi=200, height=2339, width=1654)),\n",
       " OCRPageObject(index=79, markdown='# Strengthening Our National Identity and Our Community Bonds \\n\\n148. Our unity is a precious asset, which we must never take for granted. The experiences of countries around the world show how easy it is for trust to be eroded, and for societies to become deeply divided and polarised.\\n149. We must therefore remain steadfast in nurturing our cohesion and unity. And in this Budget, we will invest more in strengthening our cultural core and our community bonds.\\n150. We will introduce an SG Culture Pass, to encourage Singaporeans to attend arts and heritage activities.\\na. All Singaporeans aged 18 and above this year will receive $\\\\$ 100$ worth of credits, which they can use for eligible activities, like arts and cultural performances, museum exhibitions, and heritage experiences.\\nb. The credits will be made available from September this year, and are valid until the end of 2028.', images=[], dimensions=OCRPageDimensions(dpi=200, height=2339, width=1654)),\n",
       " OCRPageObject(index=80, markdown='c. The Minister for Culture, Community and Youth will share more about upcoming initiatives for the arts and heritage sector.\\n151. Our hawker centres and markets are an integral part of our way of life. This year marks over half a century since we built our first hawker centres and markets, and the fifth anniversary of the inscription of our Hawker Culture onto the UNESCO Representative List of the Intangible Cultural Heritage of Humanity.\\na. To appreciate our hawkers and market stallholders, we will give each stall in centres managed by Government and Government-appointed operators a one-time rental support of $\\\\$ 600$ this year.\\nb. We will also allocate up to $\\\\$ 1$ billion over the next 20 to 30 years to upgrade ageing hawker centres and to build new centres. This will serve the changing needs of our stallholders and patrons. The Minister for Sustainability and the Environment will provide more details at the COS.', images=[], dimensions=OCRPageDimensions(dpi=200, height=2339, width=1654)),\n",
       " OCRPageObject(index=81, markdown='152. Sports is another avenue for Singaporeans of all races, religions and backgrounds to come together. Last year, we cheered on Team Singapore at the Olympics and Paralympics, rejoicing as our flag was raised high. We celebrate with them when they do well, and we encourage them when they face setbacks.\\n153. We are building new facilities in our heartlands, so that Singaporeans can enjoy sports closer to where they live. In the coming years, we will have new sports facilities in Toa Payoh, Punggol, and Clementi. And we are also upgrading existing facilities in Pasir Ris, Queenstown, and Hougang.\\n154. We will provide $\\\\$ 100$ in SG60 ActiveSG credits for all ActiveSG members to enjoy sports together with their family and friends. You can sign up for the free membership at the ActiveSG website, and use these credits to book ActiveSG facilities and programmes.\\n155. Our solidarity has seen us through many challenges, including our fight against Covid-19. We must continue to help our fellow citizens, and ensure we move forward together, as a people and a nation.', images=[], dimensions=OCRPageDimensions(dpi=200, height=2339, width=1654)),\n",
       " OCRPageObject(index=82, markdown='156. To encourage this spirit of giving, the Government provides matching funds that multiply the impact of donations. This year, we will increase our support for the fund-raising efforts of charities and social causes.\\na. We will provide a $\\\\$ 100$ million top-up to the Cultural\\n\\nMatching Fund and extend it for five years until the end of Financial Year 2029.\\nb. The Government and Tote Board now provide dollar-fordollar matching grants for the fund-raising projects of Singapore-registered charities. We will provide a $\\\\$ 270$ million top-up to this Enhanced Fund-Raising Programme, which will be extended for three years until the end of Financial Year 2027.', images=[], dimensions=OCRPageDimensions(dpi=200, height=2339, width=1654)),\n",
       " OCRPageObject(index=83, markdown=\"c. Many Singaporeans are passionate about social causes but may not have a specific charity in mind. The Community Chest, the Collective for a Stronger Society, and the President's Challenge provide platforms that help donors contribute to a range of programmes. We will introduce a \\\\$250 million SG Gives matching grant to provide dollar-fordollar matching for donations made through these platforms. And to encourage sustained giving amongst larger donors, we will provide a higher $\\\\$ 1.50$ in matching for donations with a minimum three-year commitment of at least $\\\\$ 250,000$ per year.\\nd. In total, the Government and Tote Board will set aside more than $\\\\$ 600$ million in matching funds to strengthen our spirit of giving.\\n157. Earlier, I had shared about the SG60 Vouchers. Those who are better off may want to donate their vouchers to those with greater needs. We will facilitate this, and we will share more on how to do so in due course.\", images=[], dimensions=OCRPageDimensions(dpi=200, height=2339, width=1654)),\n",
       " OCRPageObject(index=84, markdown='158. Our Self-Help Groups play an important role in addressing the needs of their respective communities, and in strengthening our social compact.\\na. I thank the Chinese Development Assistance Council, Yayasan MENDAKI, the Singapore Indian Development Association, and the Eurasian Association for their many contributions.\\nb. We will provide the Self-Help Groups with additional funding of $\\\\$ 60$ million over the next five years. This will enable them to enhance their programmes and better support their communities.\\n159. Many businesses have also stepped forward to support their fellow Singaporeans in this SG60 year, and will be providing special SG60 discounts and offers. I would like to encourage more businesses to join in and offer their support.', images=[], dimensions=OCRPageDimensions(dpi=200, height=2339, width=1654)),\n",
       " OCRPageObject(index=85, markdown='160. Singapore is at its strongest when we stand together. We may have our differences. But we are all Singaporeans, living on this tiny red dot, as one family. When we rally together as one, there is no challenge we cannot overcome. And this unity is what keeps us resilient, thriving, and moving forward, even in an uncertain and troubled world.', images=[], dimensions=OCRPageDimensions(dpi=200, height=2339, width=1654)),\n",
       " OCRPageObject(index=86, markdown=\"# H. Fiscal Position \\n\\n161. A critical enabler for Singapore's continued success is sound and healthy public finances.\\n162. We achieve this by living within our means, and running a balanced budget over each term of government. This means spending prudently to meet our immediate and future needs, ensuring that our revenues cover expenditures, and keeping the tax burden as low as we can, while not burdening Singaporeans with debt.\\n\\n## Building A Fairer and More Resilient Tax System\\n\\n163. In this term of government, we've made several significant changes to our tax system. These revenue moves give us the resources we need to meet our spending needs, and also make our fiscal system more progressive.\\n164. The GST rate increase ensures we have the revenues to look after our growing number of seniors, even with rising healthcare costs.\", images=[], dimensions=OCRPageDimensions(dpi=200, height=2339, width=1654)),\n",
       " OCRPageObject(index=87, markdown=\"a. Through the Assurance Package, we have cushioned and delayed the impact of the GST increase for the majority of Singaporean households.\\nb. Importantly, we have designed our GST system with permanent GST vouchers. This ensures that lower-income households pay a far lower effective GST rate than higherincome households.\\n165. We also continue to ensure fairness and improve progressivity in our tax system. This means that those who are better off will pay more in taxes to help their fellow citizens.\\n166. That's why we raised Property Tax rates for all non-owneroccupied residential properties, which are mainly investment properties, as well as for higher-value owner-occupied residential properties.\\na. The Property Tax rate changes coincided with a sharp increase in the Annual Values of properties, which arose because of Covid-19-related supply constraints in the property market.\", images=[], dimensions=OCRPageDimensions(dpi=200, height=2339, width=1654)),\n",
       " OCRPageObject(index=88, markdown=\"b. We have therefore revised and updated the Annual Value bands of owner-occupier Property Tax rates for residential properties. And that means that more homes now fall within bands with lower tax rates.\\nc. To further cushion the impact, we provided Property Tax rebates. In November last year, we announced another rebate of up to 20\\\\% for owner-occupied residential properties in 2025, capped at \\\\$1,000.\\nd. Taken together, all HDB owner-occupiers and over 90\\\\% of private residential property owner-occupiers will see lower Property Taxes this year.\\n167. The changes we made to our tax system this term have put us on a stronger fiscal footing. They provide us the resources we need to better meet our society's needs - all while keeping our overall system of taxes and transfers fair and progressive.\", images=[], dimensions=OCRPageDimensions(dpi=200, height=2339, width=1654)),\n",
       " OCRPageObject(index=89, markdown='# FY2024 and FY2025 Fiscal Position \\n\\n168. Let me turn to our latest fiscal position.\\n169. For Financial Year 2024, our revenue collections were better than expected.\\n170. A key reason is the upside in our Corporate Income Tax.\\na. In the past, our Corporate Income Tax collections were quite stable, at about $3.2 \\\\%$ of GDP.\\nb. But collections increased significantly in the last two years, and are projected to reach $4.1 \\\\%$ of GDP in FY2024, which is quite significant.\\nc. This is an unexpected change. Corporate Income Tax is now the single largest contributor to total revenue - larger than even the Net Investment Returns Contribution (or NIRC).', images=[], dimensions=OCRPageDimensions(dpi=200, height=2339, width=1654)),\n",
       " OCRPageObject(index=90, markdown='d. There are several reasons for this higher Corporate Income Tax collection. Part of it is due to industry-specific cyclical factors, for example, in finance and wholesale trade. It could also be due to changes in the investment decisions of multinational enterprises, as they seek out stable and reliable centres like Singapore to put more of their high-end activities.\\n171. While our revenues have increased, we have also spent more on Singaporeans. For example, we provided $\\\\$ 3$ billion in MediSave top-ups in December last year, which will help to cushion the increase in MediShield Life premiums to fund better coverage and higher payouts.\\n172. We also earmarked resources for projects to boost economic competitiveness, including developing critical infrastructure like Changi Terminal 5, and for the energy transition.\\n173. Overall, I expect to end FY2024 with a surplus of $\\\\$ 6.4$ billion, or $0.9 \\\\%$ of GDP.\\n174. For FY2025, I expect a similar fiscal position, with a surplus of $\\\\$ 6.8$ billion, or $0.9 \\\\%$ of GDP.', images=[], dimensions=OCRPageDimensions(dpi=200, height=2339, width=1654)),\n",
       " OCRPageObject(index=91, markdown=\"# Medium-Term Fiscal Outlook \\n\\n175. We will continue to keep an eye on our medium-term fiscal projections.\\n176. In 2023, the Ministry of Finance released an Occasional Paper showing that we expect to keep our fiscal position roughly balanced until 2030. For now, this remains our assessment. And let me explain.\\n177. There is still considerable uncertainty about how Government revenues will unfold over the coming decades.\\na. At this juncture, it is too early to determine if the recent increase in Corporate Income Tax collections is temporary or a lasting trend.\\nb. There could be some additional Corporate Income Tax revenue from FY2027 onwards, with the implementation of the Domestic Top-up Tax, which will raise the large MNEs' effective tax rate to $15 \\\\%$. But how much revenue we will get from this change depends on whether these MNEs continue to find it attractive to remain in Singapore.\", images=[], dimensions=OCRPageDimensions(dpi=200, height=2339, width=1654)),\n",
       " OCRPageObject(index=92, markdown='c. Moreover, there is now great uncertainty about the global tax environment. The new US administration has withdrawn from the earlier consensus forged by the OECD and other countries. And it remains to be seen what further moves the US and other major economies will make in this new geopolitical environment.\\nd. So we will assess our options as global tax developments unfold, and adjust our policies where necessary.\\n178. Meanwhile, we are certain that expenditure will continue to rise. Government spending has been rising steadily over the years from about $15 \\\\%$ of GDP to about $18 \\\\%$.\\na. And based on historical trends, we can expect our spending to go up to 20\\\\% of GDP by around 2030.\\nb. With growing global uncertainties, and the need to invest more in our workers, and better support our rapidly ageing population, there will be added pressure to raise spending possibly at a pace that exceeds previous increases.', images=[], dimensions=OCRPageDimensions(dpi=200, height=2339, width=1654)),\n",
       " OCRPageObject(index=93, markdown=\"179. So we will continue to monitor fiscal trends closely, and update our medium-term projections. In the meantime, we will spend responsibly and ensure resources are allocated effectively. If and when there are near-term fiscal upsides, we will put the resources to good use, including for our social and economic needs. Ultimately, we will always ensure that all Singaporeans benefit from our nation's progress.\", images=[], dimensions=OCRPageDimensions(dpi=200, height=2339, width=1654)),\n",
       " OCRPageObject(index=94, markdown=\"# I. Conclusion \\n\\n180. Mr Speaker, 60 years in Chinese culture marks a full cycle of life. So in this SG60 year, we will complete one cycle, and we will enter a new phase of nation-building.\\n181. We must brace ourselves for new challenges in this next phase. There are dark clouds over the horizon. The world is in turmoil, and the situation is likely to get worse in the coming years.\\n182. But this is not the first time that Singapore has had to confront tough external circumstances. We've done so repeatedly over the last six decades, and so we can draw confidence from what we've been through together.\\n183. Consider the experiences of our pioneers. Like Mr Yau Jon Kiang, who is 75 this year and a resident in Yew Tee. In our early years of nation-building, he and his wife worked long hours in a canteen at the Tanjong Gul Camp at Tuas. They put food on the table for the SAF, as well as their own young sons at home. Times were tough, but they persevered.\\n184. Their never-say-die spirit lives on in the family.\", images=[], dimensions=OCRPageDimensions(dpi=200, height=2339, width=1654)),\n",
       " OCRPageObject(index=95, markdown=\"185. Jon Kiang's son, Joses, forged his own path to become a naval engineer with the SAF. He endured long stints at sea to serve and defend our nation. Determined to improve his family's future, he pursued part-time studies and earned an engineering degree, while juggling work and family responsibilities.\\n186. His children are now entering adulthood, at 17 and 22 . They have grown up in a more affluent Singapore, but they too face their share of challenges.\\na. His daughter Jamie started at Singapore Polytechnic just as the Covid-19 pandemic hit.\\nb. Her school went online, and her daily activities were disrupted. But she did not let that get her down. She adapted and pushed forward, just as her father and grandfather had done before her.\\nc. I met Jamie and some of her fellow youth leaders back in 2022, after we had battled Covid-19 for two and a half years; they were optimistic, resilient and full of ideas about how they can contribute.\", images=[], dimensions=OCRPageDimensions(dpi=200, height=2339, width=1654)),\n",
       " OCRPageObject(index=96, markdown=\"d. Since then, Jamie has graduated from Singapore Polytechnic as Valedictorian.\\ne. Today, she is pursuing her Bachelor's in Integrative Studies at SMU, while leading a non-profit to empower and support youths in tech. She hopes to work in the philanthropic sector to make a greater impact after graduation.\\n187. This is what the Singapore spirit is about.\\n188. At every turn, we have chosen determination over despair, innovation over stagnation, and solidarity over division.\\n189. Every generation has carved a path through its challenges, and paved the way for the next generation to go even further.\\n190. Budget 2025 sets out clear plans for us to continue this journey with confidence.\\na. It is a Budget for the future - tackling immediate challenges, while laying the groundwork for a stronger, more resilient tomorrow.\", images=[], dimensions=OCRPageDimensions(dpi=200, height=2339, width=1654)),\n",
       " OCRPageObject(index=97, markdown='b. It is a Budget for all Singaporeans. Because when Singapore thrives, every citizen benefits. Every Singaporean is supported from birth to old age, with more support given to those with less. No one is left behind.\\nc. Importantly, this is a Budget shaped together with all Singaporeans - advancing our Forward Singapore efforts to build the Singapore we want, and empowering each of us to contribute towards our shared future.\\n191. The road ahead will not be without challenges, but I am confident that our best days lie ahead of us. Together, we can keep Singapore an evergreen oasis of stability, hope, and opportunity for all. So let us move onward together for a better tomorrow.\\n192. Mr Speaker, I beg to move.', images=[], dimensions=OCRPageDimensions(dpi=200, height=2339, width=1654))]"
      ]
     },
     "execution_count": 10,
     "metadata": {},
     "output_type": "execute_result"
    }
   ],
   "source": [
    "ocr_response.pages"
   ]
  },
  {
   "cell_type": "code",
   "execution_count": null,
   "metadata": {},
   "outputs": [],
   "source": []
  },
  {
   "cell_type": "markdown",
   "metadata": {},
   "source": [
    "### Setup\n",
    "- Select embedding model\n",
    "- Connection to vector store\n",
    "    - Create table if not exists\n",
    "- Create index pipeline    "
   ]
  },
  {
   "cell_type": "markdown",
   "metadata": {},
   "source": [
    "#### Load Embedding model"
   ]
  },
  {
   "cell_type": "markdown",
   "metadata": {},
   "source": [
    "##### OpenAI"
   ]
  },
  {
   "cell_type": "code",
   "execution_count": 58,
   "metadata": {},
   "outputs": [],
   "source": [
    "OPENAI_API_KEY = os.getenv('OPENAI_API_KEY')\n",
    "assert OPENAI_API_KEY is not None\n"
   ]
  },
  {
   "cell_type": "code",
   "execution_count": 59,
   "metadata": {},
   "outputs": [],
   "source": [
    "from llama_index.embeddings.openai import OpenAIEmbedding\n",
    "embedding_model_name = \"text-embedding-3-large\"\n",
    "embedding_model_dimensions = 3072\n",
    "embedding_model = OpenAIEmbedding(api_key=OPENAI_API_KEY, model=embedding_model_name, dimensions=embedding_model_dimensions)"
   ]
  },
  {
   "cell_type": "code",
   "execution_count": null,
   "metadata": {},
   "outputs": [],
   "source": []
  },
  {
   "cell_type": "markdown",
   "metadata": {},
   "source": [
    "#### Connect to vector store"
   ]
  },
  {
   "cell_type": "code",
   "execution_count": 60,
   "metadata": {},
   "outputs": [],
   "source": [
    "DB_HOST = os.getenv('DB_HOST')\n",
    "assert DB_HOST is not None\n",
    "DB_PORT = os.getenv('DB_PORT')\n",
    "assert DB_PORT is not None\n",
    "DB_USER = os.getenv('DB_USER')\n",
    "assert DB_USER is not None\n",
    "DB_PASSWORD = os.getenv('DB_PASSWORD')\n",
    "assert DB_PASSWORD is not None\n",
    "DB_NAME = os.getenv('DB_NAME')\n",
    "assert DB_NAME is not None\n"
   ]
  },
  {
   "cell_type": "markdown",
   "metadata": {},
   "source": [
    "Create database and table (Initial setup)"
   ]
  },
  {
   "cell_type": "code",
   "execution_count": 61,
   "metadata": {},
   "outputs": [],
   "source": [
    "from llama_index.vector_stores.postgres import PGVectorStore\n",
    "table_name = 'budget_2025'"
   ]
  },
  {
   "cell_type": "code",
   "execution_count": 62,
   "metadata": {},
   "outputs": [],
   "source": [
    "# Change this to True if creating the table for the first time\n",
    "perform_setup = False\n",
    "vector_store = PGVectorStore.from_params(\n",
    "            host=DB_HOST,\n",
    "            port=DB_PORT,\n",
    "            database=DB_NAME,\n",
    "            user=DB_USER,\n",
    "            password=DB_PASSWORD,\n",
    "            table_name=table_name,\n",
    "            perform_setup=perform_setup,\n",
    "            embed_dim=embedding_model_dimensions,\n",
    "        )\n",
    "\n",
    "if perform_setup:\n",
    "    vector_store._initialize()\n"
   ]
  },
  {
   "cell_type": "code",
   "execution_count": 63,
   "metadata": {},
   "outputs": [],
   "source": [
    "from llama_index.core import VectorStoreIndex\n",
    "\n",
    "vsi = VectorStoreIndex.from_vector_store(\n",
    "    vector_store=vector_store,\n",
    "    embed_model=embedding_model\n",
    ")"
   ]
  },
  {
   "cell_type": "markdown",
   "metadata": {},
   "source": [
    "#### Create index pipeline"
   ]
  },
  {
   "cell_type": "code",
   "execution_count": 26,
   "metadata": {},
   "outputs": [],
   "source": [
    "from llama_index.core.ingestion import IngestionPipeline\n",
    "from llama_index.core.node_parser import MarkdownNodeParser\n",
    "\n",
    "pipeline = IngestionPipeline(\n",
    "    transformations=[\n",
    "        MarkdownNodeParser(),\n",
    "        embedding_model\n",
    "    ],\n",
    "    vector_store=vector_store\n",
    ")\n"
   ]
  },
  {
   "cell_type": "code",
   "execution_count": 27,
   "metadata": {},
   "outputs": [
    {
     "data": {
      "text/plain": [
       "32"
      ]
     },
     "execution_count": 27,
     "metadata": {},
     "output_type": "execute_result"
    }
   ],
   "source": [
    "from llama_index.core.schema import Document\n",
    "\n",
    "document = Document(text=markdown)\n",
    "nodes = pipeline.run(documents=[document])\n",
    "len(nodes)"
   ]
  },
  {
   "cell_type": "markdown",
   "metadata": {},
   "source": [
    "### Test retrieval"
   ]
  },
  {
   "cell_type": "code",
   "execution_count": 31,
   "metadata": {},
   "outputs": [],
   "source": [
    "retriever = vsi.as_retriever()\n",
    "\n",
    "nodes = retriever.retrieve(\"What is the total budget for the year?\")\n"
   ]
  },
  {
   "cell_type": "code",
   "execution_count": 34,
   "metadata": {},
   "outputs": [
    {
     "name": "stdout",
     "output_type": "stream",
     "text": [
      "# A. Introduction \n",
      "\n",
      "Mr Speaker, Sir\n",
      "\n",
      "1. I move that Parliament approve the financial policy of the Government for the financial year 1 April 2025 to 31 March 2026.\n",
      "2. 2025 marks our $60^{\\text {th }}$ year of independence. It has been a remarkable journey, reflecting the grit and resilience of generations of Singaporeans in building our nation.\n",
      "3. 60 years ago, the world was very different:\n",
      "a. It was the height of the Cold War, with the Berlin Wall standing as a stark symbol of division between the United States and the Soviet Union.\n",
      "b. In Asia, the Cold War spilled over into proxy fights, with devastating wars in Vietnam, Laos, and Cambodia.\n",
      "\n",
      "4. As a fledgling nation, Singapore faced monumental challenges.\n",
      "a. Racial tensions were high. Unemployment was rampant.\n",
      "b. The withdrawal of British forces shortly after independence dealt a heavy blow to our defence and our economy.\n",
      "c. In a world divided by blocs, we had no hinterland and no natural allies. Survival seemed improbable.\n",
      "5. Yet in that crucible of fire, our pioneers forged a nation.\n",
      "a. We refused to be pawns in someone else's game. We turned our vulnerabilities into strength.\n",
      "b. We plugged into the world as an open and neutral hub for commerce and diplomacy.\n",
      "c. Together, we defined our relevance to the world and built this nation.\n",
      "\n",
      "6. Today, we face a new global contest. The stark divides of the Cold War have given way to a fragmented and troubled world. New walls are being erected - not of concrete, but in the form of economic and trade barriers.\n",
      "7. And once again, we will have to find ways to navigate a turbulent external environment.\n",
      "8. We have done well so far. We bounced back strongly from the Covid-19 pandemic, and ended last year on a strong footing.\n",
      "a. Our economy grew by $4.4 \\%$.\n",
      "b. Inflation continued to ease.\n",
      "c. Singaporeans saw wage increases that outpaced inflation. The median income of resident workers rose by $3.4 \\%$ above inflation.\n",
      "d. Income inequality, after government taxes and transfers, is at its lowest since 2000.\n",
      "9. All this has given us good momentum for our next phase.\n",
      "\n",
      "10. But we expect greater global uncertainty and downside risks.\n",
      "a. The US and China are locked in a fierce contest for global supremacy.\n",
      "b. Neither side wants to come to blows. But both know that economic heft and technological prowess are key to winning this global race.\n",
      "c. And both are prepared to take more assertive actions to advance their own interests, even at the expense of established international norms.\n",
      "d. So we can expect escalating attempts at containment and counter-containment, with ripple effects that will inevitably draw in other countries, including Singapore.\n",
      "11. All these pressures will reshape the global economy and dampen prospects for global growth. As a small and open economy, we will feel the impact.\n",
      "12. For 2025, we expect a more moderate outlook. Growth is projected at $1 \\%$ to $3 \\%$, while inflation is expected to average $1.5 \\%$ to $2.5 \\%$.\n",
      "\n",
      "13. But despite the uncertainties, we can look ahead with a degree of confidence. Singapore today is far stronger than we were 60 years ago.\n",
      "a. We have developed a strong and well-diversified economy, supported by a highly skilled workforce.\n",
      "b. We have built up a robust SAF and a strong diplomatic network, to uphold our sovereignty and security.\n",
      "c. We have forged a common Singaporean identity, grounded in our shared values and experiences, and our commitment to one another and our nation.\n",
      "14. This is the legacy of generations of Singaporeans, with each one running a good race. The baton has now been passed, and it is our turn to take Singapore forward. This Budget builds on previous Budgets, not only to address today's challenges, but to plan ahead and secure Singapore's future.\n",
      "15. Budget 2025 is a Budget for all Singaporeans.\n",
      "\n",
      "16. It's also a Budget shaped together with all Singaporeans. It further advances our Forward Singapore agenda, which incorporates your aspirations and views, and seeks to keep our society strong and united.\n",
      "17. In this Budget, we will work with you to:\n",
      "a. Tackle cost pressures;\n",
      "b. Advance our growth frontier;\n",
      "c. Equip workers throughout life;\n",
      "d. Build a sustainable city;\n",
      "e. Nurture a caring and inclusive society; and\n",
      "f. Rally as one united people.\n",
      "18. And I will go through each of these in turn.\n"
     ]
    }
   ],
   "source": [
    "print(nodes[0].text)"
   ]
  },
  {
   "cell_type": "code",
   "execution_count": null,
   "metadata": {},
   "outputs": [],
   "source": []
  },
  {
   "cell_type": "markdown",
   "metadata": {},
   "source": [
    "#### Corrective RAG Workflow \n",
    "- (retrieve_context) Question come in, retrieve context and set in state, maybe perform some postprocessing e.g. reranking\n",
    "- (generate_answer) Answer question from context\n",
    "- (grade_answer) Grade answer\n",
    "- (refine_answer) Refine answer if needed\n",
    "- (provide_answer) Provide answer to user\n",
    "\n",
    "State to maintain:\n",
    "- Question\n",
    "- Context\n",
    "- Answer\n",
    "- Grade\n",
    "- Refined Answer\n",
    "\n"
   ]
  },
  {
   "cell_type": "code",
   "execution_count": 78,
   "metadata": {},
   "outputs": [],
   "source": [
    "from llama_index.core.workflow import (\n",
    "    Event,\n",
    "    StartEvent,\n",
    "    StopEvent,\n",
    "    Workflow,\n",
    "    step,\n",
    ")\n",
    "from llama_index.core.schema import NodeWithScore\n",
    "from llama_index.core.base.response.schema import RESPONSE_TYPE"
   ]
  },
  {
   "cell_type": "code",
   "execution_count": 100,
   "metadata": {},
   "outputs": [],
   "source": [
    "from typing import Annotated\n",
    "\n",
    "class QuestionEvent(StartEvent):\n",
    "    question: Annotated[str, \"Single question\"]\n",
    "    similarity_top_k: Annotated[int, \"Number of nodes to retrieve\"] = 20\n",
    "    \n",
    "class NodesRetrievedEvent(Event):\n",
    "    retrieved_nodes: Annotated[list[NodeWithScore], \"Retrieved nodes\"]\n",
    "\n",
    "class NodesRerankedEvent(Event):\n",
    "    reranked_nodes: Annotated[list[NodeWithScore], \"Reranked nodes\"]\n",
    "\n",
    "# class ContextPopulatedEvent(Event):\n",
    "#     context: str\n",
    "\n",
    "class AnswerGeneratedFromContextEvent(StopEvent):\n",
    "    answer: Annotated[str, \"Answer generated from context\"]\n",
    "    \n",
    "# class AnswerGradedEvent(Event):\n",
    "#     is_relevant: Annotated[bool, \"Whether the answer is relevant to the question\"]\n",
    "    \n"
   ]
  },
  {
   "cell_type": "code",
   "execution_count": 66,
   "metadata": {},
   "outputs": [],
   "source": [
    "from llama_index.postprocessor.jinaai_rerank import JinaRerank\n",
    "\n",
    "JINA_API_KEY = os.getenv('JINA_API_KEY')\n",
    "assert JINA_API_KEY is not None\n",
    "\n",
    "postprocessor = JinaRerank(\n",
    "    top_n=20, model=\"jina-reranker-v1-base-en\", api_key=JINA_API_KEY\n",
    ")\n",
    "\n",
    "# Testing\n",
    "# reranked_nodes = postprocessor.postprocess_nodes(nodes, query_str=question)\n",
    "# len(reranked_nodes)\n"
   ]
  },
  {
   "cell_type": "code",
   "execution_count": 67,
   "metadata": {},
   "outputs": [],
   "source": [
    "from llama_index.core.prompts import PromptTemplate\n",
    "\n",
    "DEFAULT_ANSWER_GENERATION_PROMPT_TEMPLATE = PromptTemplate(\n",
    "    template=\"\"\"Your task is to answer the user's question about Singapore government budget statement based on the context provided. Be detailed and objective in your answer.\n",
    "\n",
    "    Context: \\\"\\\"\\\"\n",
    "    {context_str}\n",
    "    \\\"\\\"\\\"\n",
    "\n",
    "    User Question: \\\"\\\"\\\"\n",
    "    {query_str}\n",
    "    \\\"\\\"\\\"\n",
    "\n",
    "    \"\"\"\n",
    ")"
   ]
  },
  {
   "cell_type": "code",
   "execution_count": 107,
   "metadata": {},
   "outputs": [],
   "source": [
    "from llama_index.llms.openai import OpenAI\n",
    "from llama_index.core.workflow import Context\n",
    "from llama_index.core.response_synthesizers import get_response_synthesizer\n",
    "from llama_index.core.response_synthesizers.type import ResponseMode\n",
    "class QAWorkflow(Workflow):\n",
    "    llm = OpenAI(model=\"gpt-4o-mini\")  # llm to generate answer\n",
    "    vsi: VectorStoreIndex = VectorStoreIndex.from_vector_store(\n",
    "        vector_store=vector_store,\n",
    "        embed_model=embedding_model\n",
    "    )\n",
    "\n",
    "    @step\n",
    "    async def retrieve_nodes(self, ctx: Context, ev: QuestionEvent) -> NodesRetrievedEvent:\n",
    "        question = ev.question\n",
    "        # set question in global state\n",
    "        await ctx.set(\"question\", question)\n",
    "\n",
    "        retriever = self.vsi.as_retriever(similarity_top_k=ev.similarity_top_k)\n",
    "        qe = vsi.as_query_engine()\n",
    "        qe.aquery\n",
    "        nodes = await retriever.aretrieve(question)\n",
    "        \n",
    "        return NodesRetrievedEvent(retrieved_nodes=nodes)\n",
    "\n",
    "    @step\n",
    "    async def rerank_nodes(self, ctx: Context, ev: NodesRetrievedEvent) -> NodesRerankedEvent:\n",
    "        nodes = ev.retrieved_nodes\n",
    "        question = await ctx.get(\"question\")\n",
    "\n",
    "        reranked_nodes = postprocessor.postprocess_nodes(nodes, query_str=question)\n",
    "        return NodesRerankedEvent(reranked_nodes=reranked_nodes)\n",
    "\n",
    "    @step\n",
    "    async def generate_answer_from_context(self, ctx: Context, ev: NodesRerankedEvent) -> AnswerGeneratedFromContextEvent:\n",
    "        nodes = ev.reranked_nodes\n",
    "        question = await ctx.get(\"question\")\n",
    "        print(f'in generate_answer_from_context, question: {question}')\n",
    "\n",
    "        response_synthesizer = get_response_synthesizer(llm=self.llm, response_mode=ResponseMode.COMPACT)\n",
    "        \n",
    "        response = await response_synthesizer.asynthesize(query=question, nodes=nodes)\n",
    "        print(f'in generate_answer_from_context, response: {response}')\n",
    "        \n",
    "        return AnswerGeneratedFromContextEvent(answer=response.response)\n",
    "\n",
    "    # @step\n",
    "    # async def grade_answer(self, ctx: Context, ev: AnswerGeneratedFromContextEvent) -> AnswerGradedEvent:\n",
    "    #     answer = ev.answer\n",
    "    #     question = await ctx.get(\"question\")\n",
    "    #     print(f'in grade_answer, question: {question}')\n",
    "        \n"
   ]
  },
  {
   "cell_type": "code",
   "execution_count": 108,
   "metadata": {},
   "outputs": [
    {
     "name": "stdout",
     "output_type": "stream",
     "text": [
      "Running step retrieve_nodes\n",
      "Step retrieve_nodes produced event NodesRetrievedEvent\n",
      "Running step rerank_nodes\n",
      "Step rerank_nodes produced event NodesRerankedEvent\n",
      "Running step generate_answer_from_context\n",
      "in generate_answer_from_context, question: What do i gain if i am an undergraduate student?\n",
      "in generate_answer_from_context, response: As an undergraduate student, you will receive a top-up of $500 to your Edusave account or your Post-Secondary Education Account. This top-up can be used to cover approved education-related expenses. Additionally, you may benefit from various support schemes aimed at enhancing your learning experience and financial assistance for your education.\n",
      "Step generate_answer_from_context produced event AnswerGeneratedFromContextEvent\n",
      "answer='As an undergraduate student, you will receive a top-up of $500 to your Edusave account or your Post-Secondary Education Account. This top-up can be used to cover approved education-related expenses. Additionally, you may benefit from various support schemes aimed at enhancing your learning experience and financial assistance for your education.'\n"
     ]
    }
   ],
   "source": [
    "w = QAWorkflow(timeout=60,verbose=True)\n",
    "result = await w.run(start_event=QuestionEvent(question=\"What do i gain if i am an undergraduate student?\"))\n",
    "print(result)\n"
   ]
  },
  {
   "cell_type": "code",
   "execution_count": 92,
   "metadata": {},
   "outputs": [
    {
     "name": "stdout",
     "output_type": "stream",
     "text": [
      "The total budget for the year is not explicitly stated in the provided information. However, it mentions expected surpluses for FY2024 and FY2025, which are projected to be \\$6.4 billion and \\$6.8 billion, respectively. For a specific total budget figure, additional details would be required.\n"
     ]
    }
   ],
   "source": [
    "ans: RESPONSE_TYPE = result.answer\n",
    "print(ans)"
   ]
  },
  {
   "cell_type": "code",
   "execution_count": 105,
   "metadata": {},
   "outputs": [
    {
     "name": "stderr",
     "output_type": "stream",
     "text": [
      "Attempting to instrument while already instrumented\n"
     ]
    },
    {
     "name": "stdout",
     "output_type": "stream",
     "text": [
      "🌍 To view the Phoenix app in your browser, visit http://localhost:6006/\n",
      "📖 For more information on how to use Phoenix, check out https://docs.arize.com/phoenix\n"
     ]
    }
   ],
   "source": [
    "launch_phoenix()"
   ]
  },
  {
   "cell_type": "code",
   "execution_count": 96,
   "metadata": {},
   "outputs": [],
   "source": [
    "close_phoenix()"
   ]
  },
  {
   "cell_type": "markdown",
   "metadata": {},
   "source": [
    "#### Agent with tools\n",
    "\n",
    "For groundedness, maintain a state in the workflow for current context, for the grader agent to check that the answer is grounded in the context."
   ]
  },
  {
   "cell_type": "code",
   "execution_count": null,
   "metadata": {},
   "outputs": [],
   "source": [
    "vsi.as_query_engine()"
   ]
  },
  {
   "cell_type": "code",
   "execution_count": 38,
   "metadata": {},
   "outputs": [],
   "source": [
    "os.environ[\"LM_STUDIO_API_BASE\"] = \"http://172.27.112.1:1234\"\n"
   ]
  },
  {
   "cell_type": "code",
   "execution_count": 40,
   "metadata": {},
   "outputs": [],
   "source": [
    "import os\n",
    "from llama_index.llms.litellm import LiteLLM\n",
    "from llama_index.core.llms import ChatMessage\n",
    "\n",
    "# set env variable\n",
    "\n",
    "message = ChatMessage(role=\"user\", content=\"Hey! how's it going?\")\n",
    "\n",
    "# openai call\n",
    "llm = LiteLLM(\"lm_studio/llama-3.2-3b-instruct\")\n",
    "\n"
   ]
  },
  {
   "cell_type": "code",
   "execution_count": 48,
   "metadata": {},
   "outputs": [],
   "source": [
    "import litellm\n",
    "# litellm._turn_on_debug()\n"
   ]
  },
  {
   "cell_type": "code",
   "execution_count": 46,
   "metadata": {},
   "outputs": [],
   "source": [
    "llm = LiteLLM(\"ollama/llama3:latest\", api_base='http://localhost:11434')"
   ]
  },
  {
   "cell_type": "code",
   "execution_count": 49,
   "metadata": {},
   "outputs": [
    {
     "name": "stderr",
     "output_type": "stream",
     "text": [
      "\u001b[92m23:54:22 - LiteLLM:DEBUG\u001b[0m: utils.py:324 - \n",
      "\n",
      "\u001b[92m23:54:22 - LiteLLM:DEBUG\u001b[0m: utils.py:324 - \u001b[92mRequest to litellm:\u001b[0m\n",
      "\u001b[92m23:54:22 - LiteLLM:DEBUG\u001b[0m: utils.py:324 - \u001b[92mlitellm.completion(messages=[{'role': 'user', 'content': \"Hey! how's it going?\"}], stream=False, model='ollama/llama3:latest', temperature=0.1, api_base='http://localhost:11434')\u001b[0m\n",
      "\u001b[92m23:54:22 - LiteLLM:DEBUG\u001b[0m: utils.py:324 - \n",
      "\n",
      "\u001b[92m23:54:22 - LiteLLM:DEBUG\u001b[0m: litellm_logging.py:422 - self.optional_params: {}\n",
      "\u001b[92m23:54:22 - LiteLLM:DEBUG\u001b[0m: utils.py:324 - SYNC kwargs[caching]: False; litellm.cache: None; kwargs.get('cache')['no-cache']: False\n",
      "\u001b[92m23:54:22 - LiteLLM:INFO\u001b[0m: utils.py:3076 - \n",
      "LiteLLM completion() model= llama3:latest; provider = ollama\n",
      "\u001b[92m23:54:22 - LiteLLM:DEBUG\u001b[0m: utils.py:3079 - \n",
      "LiteLLM: Params passed to completion() {'model': 'llama3:latest', 'functions': None, 'function_call': None, 'temperature': 0.1, 'top_p': None, 'n': None, 'stream': False, 'stream_options': None, 'stop': None, 'max_tokens': None, 'max_completion_tokens': None, 'modalities': None, 'prediction': None, 'audio': None, 'presence_penalty': None, 'frequency_penalty': None, 'logit_bias': None, 'user': None, 'custom_llm_provider': 'ollama', 'response_format': None, 'seed': None, 'tools': None, 'tool_choice': None, 'max_retries': None, 'logprobs': None, 'top_logprobs': None, 'extra_headers': None, 'api_version': None, 'parallel_tool_calls': None, 'drop_params': None, 'allowed_openai_params': None, 'reasoning_effort': None, 'additional_drop_params': None, 'messages': [{'role': 'user', 'content': \"Hey! how's it going?\"}], 'thinking': None}\n",
      "\u001b[92m23:54:22 - LiteLLM:DEBUG\u001b[0m: utils.py:3082 - \n",
      "LiteLLM: Non-Default params passed to completion() {'temperature': 0.1, 'stream': False}\n",
      "\u001b[92m23:54:22 - LiteLLM:DEBUG\u001b[0m: utils.py:324 - Final returned optional params: {'temperature': 0.1, 'stream': False}\n",
      "\u001b[92m23:54:22 - LiteLLM:DEBUG\u001b[0m: litellm_logging.py:422 - self.optional_params: {'temperature': 0.1, 'stream': False}\n",
      "\u001b[92m23:54:22 - LiteLLM:DEBUG\u001b[0m: litellm_logging.py:746 - \u001b[92m\n",
      "\n",
      "POST Request Sent from LiteLLM:\n",
      "curl -X POST \\\n",
      "http://localhost:11434/api/generate \\\n",
      "-d '{'model': 'llama3:latest', 'prompt': \"### User:\\nHey! how's it going?\\n\\n\", 'options': {'temperature': 0.1}, 'stream': False, 'images': []}'\n",
      "\u001b[0m\n",
      "\n",
      "\u001b[92m23:54:29 - LiteLLM:INFO\u001b[0m: utils.py:1177 - Wrapper: Completed Call, calling success_handler\n",
      "\u001b[92m23:54:29 - LiteLLM:INFO\u001b[0m: cost_calculator.py:634 - selected model name for cost calculation: ollama/llama3:latest\n",
      "\u001b[92m23:54:29 - LiteLLM:DEBUG\u001b[0m: utils.py:4404 - checking potential_model_names in litellm.model_cost: {'split_model': 'llama3:latest', 'combined_model_name': 'ollama/llama3:latest', 'stripped_model_name': 'llama3:latest', 'combined_stripped_model_name': 'ollama/llama3:latest', 'custom_llm_provider': 'ollama'}\n",
      "\u001b[92m23:54:29 - LiteLLM:DEBUG\u001b[0m: cost_calculator.py:356 - Returned custom cost for model=ollama/llama3:latest - prompt_tokens_cost_usd_dollar: 0, completion_tokens_cost_usd_dollar: 0\n",
      "\u001b[92m23:54:29 - LiteLLM:DEBUG\u001b[0m: litellm_logging.py:966 - response_cost: 0.0\n"
     ]
    }
   ],
   "source": [
    "chat_response = llm.chat([message])"
   ]
  },
  {
   "cell_type": "code",
   "execution_count": 50,
   "metadata": {},
   "outputs": [
    {
     "data": {
      "text/plain": [
       "ChatResponse(message=ChatMessage(role=<MessageRole.ASSISTANT: 'assistant'>, additional_kwargs={}, blocks=[TextBlock(block_type='text', text=\"Hi! I'm doing well, thanks for asking. It's great to chat with you. How about you? What's new and exciting in your world?\")]), raw=ModelResponse(id='chatcmpl-b04b8dfe-39a5-4313-90d5-5f0242bd9661', created=1744386869, model='ollama/llama3:latest', object='chat.completion', system_fingerprint=None, choices=[Choices(finish_reason='stop', index=0, message=Message(content=\"Hi! I'm doing well, thanks for asking. It's great to chat with you. How about you? What's new and exciting in your world?\", role='assistant', tool_calls=None, function_call=None, provider_specific_fields=None))], usage=Usage(completion_tokens=33, prompt_tokens=10, total_tokens=43, completion_tokens_details=None, prompt_tokens_details=None)), delta=None, logprobs=None, additional_kwargs={})"
      ]
     },
     "execution_count": 50,
     "metadata": {},
     "output_type": "execute_result"
    }
   ],
   "source": [
    "chat_response"
   ]
  },
  {
   "cell_type": "markdown",
   "metadata": {},
   "source": [
    "##### LiteLLM"
   ]
  },
  {
   "cell_type": "code",
   "execution_count": null,
   "metadata": {},
   "outputs": [],
   "source": [
    "from litellm import completion\n",
    "import os\n",
    "\n",
    "os.environ['LM_STUDIO_API_BASE'] = \"http://172.27.112.1:1234\"\n",
    "\n",
    "response = completion(\n",
    "    model=\"lm_studio/llama-3.2-3b-instruct\", \n",
    "    messages=[\n",
    "        {\n",
    "            \"role\": \"user\",\n",
    "            \"content\": \"What's the weather like in Boston today in Fahrenheit?\",\n",
    "        }\n",
    "    ]\n",
    ")\n",
    "print(response)"
   ]
  },
  {
   "cell_type": "code",
   "execution_count": null,
   "metadata": {},
   "outputs": [],
   "source": []
  }
 ],
 "metadata": {
  "kernelspec": {
   "display_name": ".venv",
   "language": "python",
   "name": "python3"
  },
  "language_info": {
   "codemirror_mode": {
    "name": "ipython",
    "version": 3
   },
   "file_extension": ".py",
   "mimetype": "text/x-python",
   "name": "python",
   "nbconvert_exporter": "python",
   "pygments_lexer": "ipython3",
   "version": "3.12.9"
  }
 },
 "nbformat": 4,
 "nbformat_minor": 2
}
