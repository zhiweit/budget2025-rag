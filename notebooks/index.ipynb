{
 "cells": [
  {
   "cell_type": "code",
   "execution_count": 38,
   "metadata": {},
   "outputs": [
    {
     "data": {
      "text/plain": [
       "True"
      ]
     },
     "execution_count": 38,
     "metadata": {},
     "output_type": "execute_result"
    }
   ],
   "source": [
    "from mistralai import Mistral\n",
    "import os\n",
    "from dotenv import load_dotenv\n",
    "\n",
    "load_dotenv('../.envrc')\n",
    "\n"
   ]
  },
  {
   "cell_type": "code",
   "execution_count": 2,
   "metadata": {},
   "outputs": [],
   "source": [
    "import phoenix as px\n",
    "import llama_index.core\n",
    "\n",
    "def launch_phoenix():\n",
    "    px.launch_app()\n",
    "    llama_index.core.set_global_handler(\"arize_phoenix\")\n",
    "\n",
    "def close_phoenix():\n",
    "    px.close_app()\n"
   ]
  },
  {
   "cell_type": "markdown",
   "metadata": {},
   "source": [
    "### Ingestion Setup for PDF Files\n",
    "- Parse PDF to text\n",
    "- Select embedding model\n",
    "- Connection to vector store\n",
    "    - Create table if not exists\n",
    "- Create index pipeline\n",
    "- Run the pipeline on the parsed text"
   ]
  },
  {
   "cell_type": "code",
   "execution_count": 33,
   "metadata": {},
   "outputs": [],
   "source": [
    "# file_name = 'fy2025_budget_statement.pdf'\n",
    "# file_name = 'budget-debate-round-up-speech.pdf'\n",
    "# file_name = 'fy2025_budget_booklet_english.pdf'\n",
    "# file_name = 'fy2025_budget_booklet_chinese.pdf'\n",
    "# file_name = 'fy2025_budget_booklet_malay.pdf'\n",
    "file_name = 'fy2025_budget_booklet_tamil.pdf'\n",
    "file_path = f'../data/{file_name}'"
   ]
  },
  {
   "cell_type": "markdown",
   "metadata": {},
   "source": [
    "#### Convert PDF to text\n",
    "\n",
    "Use [Mistral OCR API](https://docs.mistral.ai/capabilities/document/) for PDF parsing because of support for\n",
    "- Parse PDF into markdown\n",
    "- Allow for images in pdf (base64)\n"
   ]
  },
  {
   "cell_type": "code",
   "execution_count": 21,
   "metadata": {},
   "outputs": [],
   "source": [
    "MISTRAL_API_KEY = os.getenv(\"MISTRAL_API_KEY\")\n",
    "assert MISTRAL_API_KEY is not None\n",
    "client = Mistral(api_key=MISTRAL_API_KEY)"
   ]
  },
  {
   "cell_type": "code",
   "execution_count": 34,
   "metadata": {},
   "outputs": [
    {
     "name": "stdout",
     "output_type": "stream",
     "text": [
      "signed_url: url='https://mistralaifilesapiprodswe.blob.core.windows.net/fine-tune/ca9f74b9-2aeb-457f-a3ac-a81ac3401e24/ce5a4f6f5f06405790b1a51df7ad7543.pdf?se=2025-04-16T08%3A35%3A18Z&sp=r&sv=2025-05-05&sr=b&sig=eLu6UF9z/SZOrnql2z9rZ3Pn9%2BSC1VX1IOKgX/bF63M%3D'\n"
     ]
    }
   ],
   "source": [
    "uploaded_pdf = client.files.upload(\n",
    "    file={\n",
    "        \"file_name\": file_name,\n",
    "        \"content\": open(file_path, \"rb\"),\n",
    "    },\n",
    "    purpose=\"ocr\"\n",
    ")\n",
    "\n",
    "signed_url = client.files.get_signed_url(file_id=uploaded_pdf.id)\n",
    "print(f'signed_url: {signed_url}')\n",
    "\n",
    "# Send to Mistral OCR API\n",
    "ocr_response = client.ocr.process(\n",
    "            model=\"mistral-ocr-latest\",\n",
    "            document={\n",
    "                \"type\": \"document_url\",\n",
    "                \"document_url\": signed_url.url,\n",
    "            },\n",
    "            include_image_base64=False,\n",
    "        )\n",
    "        \n",
    "markdown = '\\n\\n'.join([page.markdown for page in ocr_response.pages])"
   ]
  },
  {
   "cell_type": "code",
   "execution_count": null,
   "metadata": {},
   "outputs": [],
   "source": [
    "# see the markdown\n",
    "from IPython.display import Markdown, display\n",
    "\n",
    "display(Markdown(markdown))\n"
   ]
  },
  {
   "cell_type": "markdown",
   "metadata": {},
   "source": [
    "Extract from image (if needed)"
   ]
  },
  {
   "cell_type": "code",
   "execution_count": null,
   "metadata": {},
   "outputs": [],
   "source": [
    "# Extract from image (not needed)\n",
    "# ocr_response = client.ocr.process(\n",
    "#     model=\"mistral-ocr-latest\",\n",
    "#     document={\n",
    "#         \"type\": \"image_url\",\n",
    "#         \"image_url\": \"https://www.mof.gov.sg/docs/librariesprovider3/budget2025/images/resources/fy2025_budget_disbursement_calendar_english.png\"\n",
    "#     }\n",
    "# )\n"
   ]
  },
  {
   "cell_type": "markdown",
   "metadata": {},
   "source": [
    "#### Load Embedding model"
   ]
  },
  {
   "cell_type": "code",
   "execution_count": 37,
   "metadata": {},
   "outputs": [],
   "source": [
    "from llama_index.embeddings.huggingface import HuggingFaceEmbedding\n",
    "import re\n",
    "\n",
    "model_name = \"intfloat/multilingual-e5-large\"\n",
    "\n",
    "embed_model = HuggingFaceEmbedding(model_name=model_name)\n",
    "\n",
    "embedding_model_dimensions = 1024\n"
   ]
  },
  {
   "cell_type": "code",
   "execution_count": null,
   "metadata": {},
   "outputs": [],
   "source": []
  },
  {
   "cell_type": "markdown",
   "metadata": {},
   "source": [
    "#### Connect to vector store"
   ]
  },
  {
   "cell_type": "code",
   "execution_count": 5,
   "metadata": {},
   "outputs": [],
   "source": [
    "DB_HOST = os.getenv('DB_HOST')\n",
    "assert DB_HOST is not None\n",
    "DB_PORT = os.getenv('DB_PORT')\n",
    "assert DB_PORT is not None\n",
    "DB_USER = os.getenv('DB_USER')\n",
    "assert DB_USER is not None\n",
    "DB_PASSWORD = os.getenv('DB_PASSWORD')\n",
    "assert DB_PASSWORD is not None\n",
    "DB_NAME = os.getenv('DB_NAME')\n",
    "assert DB_NAME is not None\n",
    "\n",
    "DB_URL = f'postgresql+asyncpg://{DB_USER}:{DB_PASSWORD}@{DB_HOST}:{DB_PORT}/{DB_NAME}'\n"
   ]
  },
  {
   "cell_type": "markdown",
   "metadata": {},
   "source": [
    "Create database and table (Initial setup)"
   ]
  },
  {
   "cell_type": "code",
   "execution_count": 39,
   "metadata": {},
   "outputs": [
    {
     "data": {
      "text/plain": [
       "'budget_2025-intfloat-multilingual-e5-large'"
      ]
     },
     "execution_count": 39,
     "metadata": {},
     "output_type": "execute_result"
    }
   ],
   "source": [
    "from llama_index.vector_stores.postgres import PGVectorStore\n",
    "\n",
    "table_prefix = 'budget_2025-'\n",
    "# regex to only have words, numbers, and dashes\n",
    "# replace / with -\n",
    "model_name_clean = re.sub(r'[^a-zA-Z0-9\\-]', '-', model_name)\n",
    "table_name = f'{table_prefix}{model_name_clean}'\n",
    "table_name\n"
   ]
  },
  {
   "cell_type": "code",
   "execution_count": 40,
   "metadata": {},
   "outputs": [],
   "source": [
    "# Change this to True if creating the table for the first time\n",
    "perform_setup = False\n",
    "vector_store = PGVectorStore.from_params(\n",
    "            host=DB_HOST,\n",
    "            port=DB_PORT,\n",
    "            database=DB_NAME,\n",
    "            user=DB_USER,\n",
    "            password=DB_PASSWORD,\n",
    "            table_name=table_name,\n",
    "            perform_setup=perform_setup,\n",
    "            embed_dim=embedding_model_dimensions,\n",
    "        )\n",
    "\n",
    "if perform_setup:\n",
    "    vector_store._initialize()\n",
    "    print(f'Vector store initialized for {table_name}')\n"
   ]
  },
  {
   "cell_type": "code",
   "execution_count": 41,
   "metadata": {},
   "outputs": [],
   "source": [
    "from llama_index.core import VectorStoreIndex\n",
    "\n",
    "vsi = VectorStoreIndex.from_vector_store(\n",
    "    vector_store=vector_store,\n",
    "    embed_model=embed_model\n",
    ")"
   ]
  },
  {
   "cell_type": "markdown",
   "metadata": {},
   "source": [
    "#### Create index pipeline"
   ]
  },
  {
   "cell_type": "code",
   "execution_count": 13,
   "metadata": {},
   "outputs": [],
   "source": [
    "from llama_index.core.ingestion import IngestionPipeline\n",
    "from llama_index.core.node_parser import MarkdownNodeParser\n",
    "from llama_index.core.node_parser import SemanticSplitterNodeParser\n",
    "\n",
    "semantic_splitter = SemanticSplitterNodeParser(embed_model=embed_model)\n",
    "\n",
    "pipeline = IngestionPipeline(\n",
    "    transformations=[\n",
    "        MarkdownNodeParser(),\n",
    "        semantic_splitter,\n",
    "        embed_model\n",
    "    ],\n",
    "    vector_store=vector_store\n",
    ")\n"
   ]
  },
  {
   "cell_type": "code",
   "execution_count": 36,
   "metadata": {},
   "outputs": [
    {
     "name": "stdout",
     "output_type": "stream",
     "text": [
      "45 created for fy2025_budget_booklet_tamil.pdf\n"
     ]
    }
   ],
   "source": [
    "from llama_index.core.schema import Document\n",
    "\n",
    "metadata = {\n",
    "    'source_document': file_name\n",
    "}\n",
    "\n",
    "document = Document(text=markdown, metadata=metadata)\n",
    "document.excluded_embed_metadata_keys = metadata.keys()\n",
    "\n",
    "nodes = await pipeline.arun(documents=[document])\n",
    "print(f'{len(nodes)} created for {file_name}')"
   ]
  },
  {
   "cell_type": "markdown",
   "metadata": {},
   "source": [
    "#### Test retrieval"
   ]
  },
  {
   "cell_type": "code",
   "execution_count": 42,
   "metadata": {},
   "outputs": [],
   "source": [
    "similarity_top_k = 30\n",
    "retriever = vsi.as_retriever(similarity_top_k=similarity_top_k)\n"
   ]
  },
  {
   "cell_type": "code",
   "execution_count": 43,
   "metadata": {},
   "outputs": [
    {
     "data": {
      "text/plain": [
       "HuggingFaceEmbedding(model_name='intfloat/multilingual-e5-large', embed_batch_size=10, callback_manager=<llama_index.core.callbacks.base.CallbackManager object at 0x7efe1a176750>, num_workers=None, max_length=512, normalize=True, query_instruction=None, text_instruction=None, cache_folder=None, show_progress_bar=False)"
      ]
     },
     "execution_count": 43,
     "metadata": {},
     "output_type": "execute_result"
    }
   ],
   "source": [
    "vsi._embed_model"
   ]
  },
  {
   "cell_type": "code",
   "execution_count": 44,
   "metadata": {},
   "outputs": [],
   "source": [
    "question = \"What are some housing subsidies provided in the budget?\""
   ]
  },
  {
   "cell_type": "code",
   "execution_count": null,
   "metadata": {},
   "outputs": [
    {
     "name": "stdout",
     "output_type": "stream",
     "text": [
      "0.8069594377017614\n",
      "The measures we have taken in recent years, and are taking in this Budget, will help to mitigate the impact of rising costs.\n",
      "31. But in the longer term, the best way to adjust to higher prices is to grow the economy and increase productivity, so that all Singaporeans can enjoy higher real incomes and better standards of living. And let me turn to our strategies next in these areas.\n"
     ]
    }
   ],
   "source": [
    "# question = \"How much is the government topping up to cultural matching fund?\"\n",
    "\n",
    "nodes = retriever.retrieve(question)\n",
    "print(nodes[0].score)\n",
    "print(nodes[0].text)\n"
   ]
  }
 ],
 "metadata": {
  "kernelspec": {
   "display_name": ".venv",
   "language": "python",
   "name": "python3"
  },
  "language_info": {
   "codemirror_mode": {
    "name": "ipython",
    "version": 3
   },
   "file_extension": ".py",
   "mimetype": "text/x-python",
   "name": "python",
   "nbconvert_exporter": "python",
   "pygments_lexer": "ipython3",
   "version": "3.12.9"
  }
 },
 "nbformat": 4,
 "nbformat_minor": 2
}
